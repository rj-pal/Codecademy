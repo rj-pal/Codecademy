{
 "cells": [
  {
   "cell_type": "markdown",
   "metadata": {},
   "source": [
    "# Casual Coded Correspondence: The Project\n",
    "\n",
    "In this project, you will be working to code and decode various messages between you and your fictional cryptography enthusiast pen pal Vishal. You and Vishal have been exchanging letters for quite some time now and have started to provide a puzzle in each one of your letters.  Here is his most recent letter:\n",
    "\n",
    "     Hey there! How have you been? I've been great! I just learned about this really cool type of cipher called a  Caesar Cipher. Here's how it works: You take your message, something like \"hello\" and then you shift all of the letters by a certain offset. For example, if I chose an offset of 3 and a message of \"hello\", I would code my message by shifting each letter 3 places to the left (with respect to the alphabet). So \"h\" becomes \"e\", \"e\" becomes, \"b\", \"l\" becomes \"i\", and \"o\" becomes \"l\". Then I have my coded message,\"ebiil\"! Now I can send you my message and the offset and you can decode it. The best thing is that Julius Caesar himself used this cipher, that's why it's called the Caesar Cipher! Isn't that so cool! Okay, now I'm going to send you a longer coded message that you have to decode yourself!\n",
    "    \n",
    "        xuo jxuhu! jxyi yi qd unqcfbu ev q squiqh syfxuh. muhu oek qrbu je tusetu yj? y xefu ie! iudt cu q cuiiqwu rqsa myjx jxu iqcu evviuj!\n",
    "    \n",
    "    This message has an offset of 10. Can you decode it?\n",
    "    \n",
    "\n",
    "#### Step 1: Decode Vishal's Message\n",
    "In the cell below, use your Python skills to decode Vishal's message and print the result. Hint: you can account for shifts that go past the end of the alphabet using the modulus operator, but I'll let you figure out how!"
   ]
  },
  {
   "cell_type": "code",
   "execution_count": 1,
   "metadata": {},
   "outputs": [
    {
     "data": {
      "text/plain": [
       "'hey there! this is an example of a caesar cipher. were you able to decode it? i hope so! send me a message back with the same offset!'"
      ]
     },
     "execution_count": 1,
     "metadata": {},
     "output_type": "execute_result"
    }
   ],
   "source": [
    "letter_dict = {}\n",
    "number_dict = {}\n",
    "a = ord('a')\n",
    "z = ord('z') # I don't need this \n",
    "\n",
    "for i in range(26):\n",
    "    letter_dict[chr(i + a)] = i + 1\n",
    "    number_dict[i + 1] = chr(i + a)\n",
    "\n",
    "message = 'xuo jxuhu! jxyi yi qd unqcfbu ev q squiqh syfxuh. muhu oek qrbu je tusetu yj? y xefu ie! iudt cu q cuiiqwu rqsa myjx jxu iqcu evviuj!'\n",
    "new_message = []\n",
    "for letter in message:\n",
    "    if letter.isalpha():\n",
    "        key_number = (letter_dict[letter] + 10) \n",
    "        if key_number > 26:\n",
    "            key_number = key_number % 26\n",
    "        letter = number_dict[key_number]\n",
    "    new_message.append(letter)\n",
    "\n",
    "decoded = ''.join(new_message)\n",
    "decoded"
   ]
  },
  {
   "cell_type": "markdown",
   "metadata": {},
   "source": [
    "#### Step 2: Send Vishal a Coded Message\n",
    "Great job! Now send Vishal back a message using the same offset. Your message can be anything you want! Remember, coding happens in opposite direction of decoding."
   ]
  },
  {
   "cell_type": "code",
   "execution_count": 2,
   "metadata": {},
   "outputs": [
    {
     "name": "stdout",
     "output_type": "stream",
     "text": [
      "zed\n"
     ]
    }
   ],
   "source": [
    "message = 'jon'\n",
    "new_message = []\n",
    "for letter in message:\n",
    "    if letter.isalpha():\n",
    "        key_number = (letter_dict[letter] - 10)\n",
    "        if key_number < 1:\n",
    "            key_number = 26 + key_number\n",
    "        \n",
    "        letter = number_dict[key_number]\n",
    "    new_message.append(letter)\n",
    "coded = ''.join(new_message)\n",
    "print(coded)"
   ]
  },
  {
   "cell_type": "markdown",
   "metadata": {},
   "source": [
    "# Import my own Cipher functions from python file ciphers.py- They are a refinement of the code above"
   ]
  },
  {
   "cell_type": "code",
   "execution_count": 3,
   "metadata": {},
   "outputs": [],
   "source": [
    "from ciphers import *"
   ]
  },
  {
   "cell_type": "markdown",
   "metadata": {},
   "source": [
    "### Answer to the first question"
   ]
  },
  {
   "cell_type": "code",
   "execution_count": 4,
   "metadata": {},
   "outputs": [
    {
     "name": "stdout",
     "output_type": "stream",
     "text": [
      "hey there! this is an example of a caesar cipher. were you able to decode it? i hope so! send me a message back with the same offset!\n"
     ]
    }
   ],
   "source": [
    "message = 'xuo jxuhu! jxyi yi qd unqcfbu ev q squiqh syfxuh. muhu oek qrbu je tusetu yj? y xefu ie! iudt cu q cuiiqwu rqsa myjx jxu iqcu evviuj!'\n",
    "decoded_message = caeser_cipher(message, 10, shift_right=True)\n",
    "print(decoded_message)"
   ]
  },
  {
   "cell_type": "markdown",
   "metadata": {},
   "source": [
    "### Answer to the second question showing proof of both ways. Note: the answer in the solutions does not take into account capital letters and thus cannot be decoded properly"
   ]
  },
  {
   "cell_type": "code",
   "execution_count": 5,
   "metadata": {},
   "outputs": [
    {
     "name": "stdout",
     "output_type": "stream",
     "text": [
      "Coded message:\n",
      "lyixqb, fqkb yi fbqoydw jxu fyqde cqwdyvysudjbo!\n",
      "Decoded original message:\n",
      "vishal, paul is playing the piano magnificently!\n",
      "\n",
      "Coded message:\n",
      "zed\n",
      "Decoded original message:\n",
      "jon\n"
     ]
    }
   ],
   "source": [
    "new_message = 'Vishal, Paul is playing the piano magnificently!'\n",
    "coded_message = caeser_cipher(new_message, 10, shift_right=False)\n",
    "print(\"Coded message:\")\n",
    "print(coded_message)\n",
    "print(\"Decoded original message:\")\n",
    "print(caeser_cipher(coded_message, 10, shift_right=True))\n",
    "print()\n",
    "new_message = 'jon'\n",
    "coded_message = caeser_cipher(new_message, 10, shift_right=False)\n",
    "print(\"Coded message:\")\n",
    "print(coded_message)\n",
    "print(\"Decoded original message:\")\n",
    "print(caeser_cipher(coded_message, 10, shift_right=True))"
   ]
  },
  {
   "cell_type": "markdown",
   "metadata": {},
   "source": [
    "#### Step 3: Make functions for decoding and coding \n",
    "\n",
    "Vishal sent over another reply, this time with two coded messages!\n",
    "    \n",
    "    You're getting the hang of this! Okay here are two more messages, the first one is coded just like before with  an offset of ten, and it contains the hint for decoding the second message!\n",
    "    \n",
    "    First message:\n",
    "    \n",
    "        jxu evviuj veh jxu iusedt cuiiqwu yi vekhjuud.\n",
    "        \n",
    "    Second message:\n",
    "    \n",
    "        bqdradyuzs ygxfubxq omqemd oubtqde fa oapq kagd yqeemsqe ue qhqz yadq eqogdq!\n",
    "    \n",
    "Decode both of these messages. \n",
    "\n",
    "If you haven't already, define two functions `decoder(message, offset)` and `coder(message, offset)` that can be used to quickly decode and code messages given any offset."
   ]
  },
  {
   "cell_type": "markdown",
   "metadata": {},
   "source": [
    "### Here are my original functions"
   ]
  },
  {
   "cell_type": "code",
   "execution_count": 6,
   "metadata": {},
   "outputs": [],
   "source": [
    "def get_dictionaries():\n",
    "    letter_dict = {}\n",
    "    number_dict = {}\n",
    "    a = ord('a')\n",
    "\n",
    "    for i in range(26):\n",
    "        letter_dict[chr(i + a)] = i\n",
    "        number_dict[i] = chr(i + a)\n",
    "\n",
    "    return letter_dict, number_dict\n",
    "\n",
    "def decoder(message, offset):\n",
    "    letter_dict, number_dict = get_dictionaries()\n",
    "    new_message = []\n",
    "    for letter in message:\n",
    "        if letter.isalpha():\n",
    "            key_number = (letter_dict[letter] + offset) % 26\n",
    "            letter = number_dict[key_number]\n",
    "        new_message.append(letter)\n",
    "\n",
    "    return ''.join(new_message)\n",
    "\n",
    "def coder(message, offset):\n",
    "    letter_dict, number_dict = get_dictionaries()\n",
    "    new_message = []\n",
    "    for letter in message:\n",
    "        if letter.isalpha():\n",
    "            key_number = (letter_dict[letter] - offset) % 26\n",
    "            letter = number_dict[key_number]\n",
    "        new_message.append(letter)\n",
    "\n",
    "    return ''.join(new_message)"
   ]
  },
  {
   "cell_type": "markdown",
   "metadata": {},
   "source": [
    "#### Test using the above functions"
   ]
  },
  {
   "cell_type": "code",
   "execution_count": 7,
   "metadata": {},
   "outputs": [
    {
     "name": "stdout",
     "output_type": "stream",
     "text": [
      "the offset for the second message is fourteen.\n",
      "performing multiple caesar ciphers to code your messages is even more secure!\n"
     ]
    }
   ],
   "source": [
    "first_message = 'jxu evviuj veh jxu iusedt cuiiqwu yi vekhjuud.'\n",
    "print(decoder(first_message, 10))\n",
    "second_message = 'bqdradyuzs ygxfubxq omqemd oubtqde fa oapq kagd yqeemsqe ue qhqz yadq eqogdq!'\n",
    "print(decoder(second_message, 14))"
   ]
  },
  {
   "cell_type": "markdown",
   "metadata": {},
   "source": [
    "#### Test using my imported function"
   ]
  },
  {
   "cell_type": "code",
   "execution_count": 8,
   "metadata": {},
   "outputs": [
    {
     "name": "stdout",
     "output_type": "stream",
     "text": [
      "the offset for the second message is fourteen.\n",
      "performing multiple caesar ciphers to code your messages is even more secure!\n"
     ]
    }
   ],
   "source": [
    "print(caeser_cipher(first_message, 10, shift_right=True))\n",
    "print(caeser_cipher(second_message, 14, shift_right=True))"
   ]
  },
  {
   "cell_type": "markdown",
   "metadata": {},
   "source": [
    "#### Step 4: Solving a Caesar Cipher without knowing the shift value\n",
    "\n",
    "Awesome work! While you were working to decode his last two messages, Vishal sent over another letter! He's really been bitten by the crytpo-bug. Read it and see what interesting task he has lined up for you this time.\n",
    "\n",
    "            Hello again friend! I knew you would love the Caesar Cipher, it's a cool simple way to encrypt messages. Did you know that back in Caesar's time, it was considered a very secure way of communication and it took a lot of effort to crack if you were unaware of the value of the shift? That's all changed with computers! Now we can brute force these kinds of ciphers very quickly, as I'm sure you can imagine.\n",
    "            \n",
    "            To test your cryptography skills, this next coded message is going to be harder than the last couple to crack. It's still going to be coded with a Caesar Cipher but this time I'm not going to tell you the value of   the shift. You'll have to brute force it yourself.\n",
    "            \n",
    "            Here's the coded message:\n",
    "            \n",
    "            vhfinmxkl atox kxgwxkxw tee hy maxlx hew vbiaxkl tl hulhexmx. px'ee atox mh kxteer lmxi ni hnk ztfx by px ptgm mh dxxi hnk fxlltzxl ltyx.\n",
    "            \n",
    "            Good luck!\n",
    "            \n",
    "Decode Vishal's most recent message and see what it says!"
   ]
  },
  {
   "cell_type": "markdown",
   "metadata": {},
   "source": [
    "### Using the above decoder function"
   ]
  },
  {
   "cell_type": "code",
   "execution_count": 9,
   "metadata": {},
   "outputs": [
    {
     "name": "stdout",
     "output_type": "stream",
     "text": [
      "Offset: 1\n",
      "wigjonylm bupy lyhxylyx uff iz nbymy ifx wcjbylm um ivmifyny. qy'ff bupy ni lyuffs mnyj oj iol augy cz qy quhn ni eyyj iol gymmuaym muzy.\n",
      "\n",
      "Offset: 2\n",
      "xjhkpozmn cvqz mziyzmzy vgg ja ocznz jgy xdkczmn vn jwnjgzoz. rz'gg cvqz oj mzvggt nozk pk jpm bvhz da rz rvio oj fzzk jpm hznnvbzn nvaz.\n",
      "\n",
      "Offset: 3\n",
      "ykilqpano dwra najzanaz whh kb pdaoa khz yeldano wo kxokhapa. sa'hh dwra pk nawhhu opal ql kqn cwia eb sa swjp pk gaal kqn iaoowcao owba.\n",
      "\n",
      "Offset: 4\n",
      "zljmrqbop exsb obkaboba xii lc qebpb lia zfmebop xp lyplibqb. tb'ii exsb ql obxiiv pqbm rm lro dxjb fc tb txkq ql hbbm lro jbppxdbp pxcb.\n",
      "\n",
      "Offset: 5\n",
      "amknsrcpq fytc pclbcpcb yjj md rfcqc mjb agnfcpq yq mzqmjcrc. uc'jj fytc rm pcyjjw qrcn sn msp eykc gd uc uylr rm iccn msp kcqqyecq qydc.\n",
      "\n",
      "Offset: 6\n",
      "bnlotsdqr gzud qdmcdqdc zkk ne sgdrd nkc bhogdqr zr narnkdsd. vd'kk gzud sn qdzkkx rsdo to ntq fzld he vd vzms sn jddo ntq ldrrzfdr rzed.\n",
      "\n",
      "Offset: 7\n",
      "computers have rendered all of these old ciphers as obsolete. we'll have to really step up our game if we want to keep our messages safe.\n",
      "\n",
      "Offset: 8\n",
      "dpnqvufst ibwf sfoefsfe bmm pg uiftf pme djqifst bt pctpmfuf. xf'mm ibwf up sfbmmz tufq vq pvs hbnf jg xf xbou up lffq pvs nfttbhft tbgf.\n",
      "\n",
      "Offset: 9\n",
      "eqorwvgtu jcxg tgpfgtgf cnn qh vjgug qnf ekrjgtu cu qduqngvg. yg'nn jcxg vq tgcnna uvgr wr qwt icog kh yg ycpv vq mggr qwt oguucigu uchg.\n",
      "\n",
      "Offset: 10\n",
      "frpsxwhuv kdyh uhqghuhg doo ri wkhvh rog flskhuv dv revrohwh. zh'oo kdyh wr uhdoob vwhs xs rxu jdph li zh zdqw wr nhhs rxu phvvdjhv vdih.\n",
      "\n",
      "Offset: 11\n",
      "gsqtyxivw lezi virhivih epp sj xliwi sph gmtlivw ew sfwspixi. ai'pp lezi xs vieppc wxit yt syv keqi mj ai aerx xs oiit syv qiwwekiw weji.\n",
      "\n",
      "Offset: 12\n",
      "htruzyjwx mfaj wjsijwji fqq tk ymjxj tqi hnumjwx fx tgxtqjyj. bj'qq mfaj yt wjfqqd xyju zu tzw lfrj nk bj bfsy yt pjju tzw rjxxfljx xfkj.\n",
      "\n",
      "Offset: 13\n",
      "iusvazkxy ngbk xktjkxkj grr ul znkyk urj iovnkxy gy uhyurkzk. ck'rr ngbk zu xkgrre yzkv av uax mgsk ol ck cgtz zu qkkv uax skyygmky yglk.\n",
      "\n",
      "Offset: 14\n",
      "jvtwbalyz ohcl yluklylk hss vm aolzl vsk jpwolyz hz vizvslal. dl'ss ohcl av ylhssf zalw bw vby nhtl pm dl dhua av rllw vby tlzzhnlz zhml.\n",
      "\n",
      "Offset: 15\n",
      "kwuxcbmza pidm zmvlmzml itt wn bpmam wtl kqxpmza ia wjawtmbm. em'tt pidm bw zmittg abmx cx wcz oium qn em eivb bw smmx wcz umaaioma ainm.\n",
      "\n",
      "Offset: 16\n",
      "lxvydcnab qjen anwmnanm juu xo cqnbn xum lryqnab jb xkbxuncn. fn'uu qjen cx anjuuh bcny dy xda pjvn ro fn fjwc cx tnny xda vnbbjpnb bjon.\n",
      "\n",
      "Offset: 17\n",
      "mywzedobc rkfo boxnobon kvv yp droco yvn mszrobc kc ylcyvodo. go'vv rkfo dy bokvvi cdoz ez yeb qkwo sp go gkxd dy uooz yeb wocckqoc ckpo.\n",
      "\n",
      "Offset: 18\n",
      "nzxafepcd slgp cpyopcpo lww zq espdp zwo ntaspcd ld zmdzwpep. hp'ww slgp ez cplwwj depa fa zfc rlxp tq hp hlye ez vppa zfc xpddlrpd dlqp.\n",
      "\n",
      "Offset: 19\n",
      "oaybgfqde tmhq dqzpqdqp mxx ar ftqeq axp oubtqde me aneaxqfq. iq'xx tmhq fa dqmxxk efqb gb agd smyq ur iq imzf fa wqqb agd yqeemsqe emrq.\n",
      "\n",
      "Offset: 20\n",
      "pbzchgref unir eraqrerq nyy bs gurfr byq pvcuref nf bofbyrgr. jr'yy unir gb ernyyl fgrc hc bhe tnzr vs jr jnag gb xrrc bhe zrffntrf fnsr.\n",
      "\n",
      "Offset: 21\n",
      "qcadihsfg vojs fsbrsfsr ozz ct hvsgs czr qwdvsfg og cpgczshs. ks'zz vojs hc fsozzm ghsd id cif uoas wt ks kobh hc yssd cif asggousg gots.\n",
      "\n",
      "Offset: 22\n",
      "rdbejitgh wpkt gtcstgts paa du iwtht das rxewtgh ph dqhdatit. lt'aa wpkt id gtpaan hite je djg vpbt xu lt lpci id ztte djg bthhpvth hput.\n",
      "\n",
      "Offset: 23\n",
      "secfkjuhi xqlu hudtuhut qbb ev jxuiu ebt syfxuhi qi eriebuju. mu'bb xqlu je huqbbo ijuf kf ekh wqcu yv mu mqdj je auuf ekh cuiiqwui iqvu.\n",
      "\n",
      "Offset: 24\n",
      "tfdglkvij yrmv iveuvivu rcc fw kyvjv fcu tzgyvij rj fsjfcvkv. nv'cc yrmv kf ivrccp jkvg lg fli xrdv zw nv nrek kf bvvg fli dvjjrxvj jrwv.\n",
      "\n",
      "Offset: 25\n",
      "ugehmlwjk zsnw jwfvwjwv sdd gx lzwkw gdv uahzwjk sk gtkgdwlw. ow'dd zsnw lg jwsddq klwh mh gmj ysew ax ow osfl lg cwwh gmj ewkksywk ksxw.\n",
      "\n",
      "Offset: 26\n",
      "vhfinmxkl atox kxgwxkxw tee hy maxlx hew vbiaxkl tl hulhexmx. px'ee atox mh kxteer lmxi ni hnk ztfx by px ptgm mh dxxi hnk fxlltzxl ltyx.\n",
      "\n"
     ]
    }
   ],
   "source": [
    "crypted_message = \"vhfinmxkl atox kxgwxkxw tee hy maxlx hew vbiaxkl tl hulhexmx. px'ee atox mh kxteer lmxi ni hnk ztfx by px ptgm mh dxxi hnk fxlltzxl ltyx.\"\n",
    "for i in range(26):\n",
    "    print(f\"Offset: {i + 1}\")\n",
    "    print(decoder(crypted_message, i + 1), end='\\n\\n')"
   ]
  },
  {
   "cell_type": "markdown",
   "metadata": {},
   "source": [
    "#### Step 5: The Vigenère Cipher\n",
    "\n",
    "Great work! While you were working on the brute force cracking of the cipher, Vishal sent over another letter. That guy is a letter machine!\n",
    "\n",
    "            Salutations! As you can see, technology has made brute forcing simple ciphers like the Caesar Cipher extremely easy, and us crypto-enthusiasts have had to get more creative and use more complicated ciphers. This next cipher I'm going to teach you is the Vigenère Cipher, invented by an Italian cryptologist named Giovan Battista Bellaso (cool name eh?) in the 16th century, but named after another cryptologist from the 16th century, Blaise de Vigenère.\n",
    "            \n",
    "           The Vigenère Cipher is a polyalphabetic substitution cipher, as opposed to the Caesar Cipher which was a monoalphabetic substitution cipher. What this means is that opposed to having a single shift that is applied to every letter, the Vigenère Cipher has a different shift for each individual letter. The value of the shift for each letter is determined by a given keyword.\n",
    "           \n",
    "           Consider the message\n",
    "           \n",
    "               barry is the spy\n",
    "\n",
    "           If we want to code this message, first we choose a keyword. For this example, we'll use the keyword\n",
    "           \n",
    "               dog\n",
    "               \n",
    "           Now we use the repeat the keyword over and over to generate a _keyword phrase_ that is the same length as the message we want to code. So if we want to code the message \"barry is the spy\" our _keyword phrase_ is \"dogdo gd ogd ogd\". Now we are ready to start coding our message. We shift the each letter of our message by the place value of the corresponding letter in the keyword phrase, assuming that \"a\" has a place value of 0, \"b\" has a place value of 1, and so forth. Remember, we zero-index because this is Python we're talking about!\n",
    "\n",
    "                        message:       b  a  r  r  y    i  s   t  h  e   s  p  y\n",
    "                \n",
    "                 keyword phrase:       d  o  g  d  o    g  d   o  g  d   o  g  d\n",
    "                 \n",
    "          resulting place value:       4  14 15 12 16   24 11  21 25 22  22 17 5\n",
    "      \n",
    "            So we shift \"b\", which has an index of 1, by the index of \"d\", which is 3. This gives us an place value of 4, which is \"e\". Then continue the trend: we shift \"a\" by the place value of \"o\", 14, and get \"o\" again, we shift \"r\" by the place value of \"g\", 15, and get \"x\", shift the next \"r\" by 12 places and \"u\", and so forth. Once we complete all the shifts we end up with our coded message:\n",
    "            \n",
    "                eoxum ov hnh gvb\n",
    "                \n",
    "            As you can imagine, this is a lot harder to crack without knowing the keyword! So now comes the hard part. I'll give you a message and the keyword, and you'll see if you can figure out how to crack it! Ready? Okay here's my message:\n",
    "            \n",
    "                dfc aruw fsti gr vjtwhr wznj? vmph otis! cbx swv jipreneo uhllj kpi rahjib eg fjdkwkedhmp!\n",
    "                \n",
    "            and the keyword to decode my message is \n",
    "            \n",
    "                friends\n",
    "                \n",
    "            Because that's what we are! Good luck friend!\n",
    "           \n",
    "And there it is. Vishal has given you quite the assignment this time! Try to decode his message. It may be helpful to create a function that takes two parameters, the coded message and the keyword and then work towards a solution from there.\n",
    "\n",
    "**NOTE:** Watch out for spaces and punctuation! When there's a space or punctuation mark in the original message, there should be a space/punctuation mark in the corresponding repeated-keyword string as well! "
   ]
  },
  {
   "cell_type": "code",
   "execution_count": 10,
   "metadata": {},
   "outputs": [
    {
     "name": "stdout",
     "output_type": "stream",
     "text": [
      "Original message:\n",
      "dfc aruw fsti gr vjtwhr wznj? vmph otis! cbx swv jipreneo uhllj kpi rahjib eg fjdkwkedhmp!\n",
      "Decoded message:\n",
      "you were able to decode this? nice work! you are becoming quite the expert at crytography!\n",
      "Recoded decoded message:\n",
      "dfc aruw fsti gr vjtwhr wznj? vmph otis! cbx swv jipreneo uhllj kpi rahjib eg fjdkwkedhmp!\n"
     ]
    }
   ],
   "source": [
    "def vigenere_decoder(message, keyword):\n",
    "    cypher = []\n",
    "    letter_dict, number_dict = get_dictionaries()\n",
    "    \n",
    "    for letter in keyword:\n",
    "        cypher.append(letter_dict[letter])\n",
    "    \n",
    "    new_message = []\n",
    "    count = 0\n",
    "    keyword_length = len(cypher)\n",
    "    \n",
    "    for letter in message:\n",
    "        if letter.isalpha():\n",
    "            offset = cypher[count]\n",
    "            key_number = (letter_dict[letter] - offset) % 26\n",
    "            letter = number_dict[key_number]\n",
    "            \n",
    "            if count < keyword_length - 1:\n",
    "                count += 1\n",
    "            else:\n",
    "                count = 0\n",
    "        \n",
    "        new_message.append(letter)\n",
    "    return ''.join(new_message)\n",
    "\n",
    "def vigenere_coder(message, keyword):\n",
    "    cypher = []\n",
    "    letter_dict, number_dict = get_dictionaries()\n",
    "    \n",
    "    for letter in keyword:\n",
    "        cypher.append(letter_dict[letter])\n",
    "    \n",
    "    new_message = []\n",
    "    count = 0\n",
    "    keyword_length = len(cypher)\n",
    "    \n",
    "    for letter in message:\n",
    "        if letter.isalpha():\n",
    "            offset = cypher[count]\n",
    "            key_number = (letter_dict[letter] + offset) % 26\n",
    "            letter = number_dict[key_number]\n",
    "            \n",
    "            if count < keyword_length - 1:\n",
    "                count += 1\n",
    "            else:\n",
    "                count = 0\n",
    "        \n",
    "        new_message.append(letter)\n",
    "    return ''.join(new_message)\n",
    "\n",
    "\n",
    "coded_message = 'dfc aruw fsti gr vjtwhr wznj? vmph otis! cbx swv jipreneo uhllj kpi rahjib eg fjdkwkedhmp!'\n",
    "print(\"Original message:\")\n",
    "print(coded_message)\n",
    "decoded_message = vigenere_decoder(coded_message, 'friends')\n",
    "print(\"Decoded message:\")\n",
    "print(decoded_message)\n",
    "print(\"Recoded decoded message:\")\n",
    "print(vigenere_coder(decoded_message, 'friends'))"
   ]
  },
  {
   "cell_type": "markdown",
   "metadata": {},
   "source": [
    "#### Step 6: Send a message with the  Vigenère Cipher\n",
    "Great work decoding the message. For your final task, write a function that can encode a message using a given keyword and write out a message to send to Vishal!\n",
    "\n",
    "*As a bonus, try calling your decoder function on the result of your encryption function. You should get the original message back!*"
   ]
  },
  {
   "cell_type": "markdown",
   "metadata": {},
   "source": [
    "## Functions were written and tested above. Below, are the refined functions from my library compared with above functions."
   ]
  },
  {
   "cell_type": "code",
   "execution_count": 11,
   "metadata": {},
   "outputs": [
    {
     "name": "stdout",
     "output_type": "stream",
     "text": [
      "Original message:\n",
      "thanks for teaching me all these cool ciphers! you really are the best!\n",
      "Coded message:\n",
      "ulsgsw xpv lxigzjry fm edm xzxai upsd vqtzfvk! rwy jfedeg ejf xzx jiku!\n",
      "ulsgsw xpv lxigzjry fm edm xzxai upsd vqtzfvk! rwy jfedeg ejf xzx jiku!\n",
      "Decoded message\n",
      "thanks for teaching me all these cool ciphers! you really are the best!\n",
      "thanks for teaching me all these cool ciphers! you really are the best!\n"
     ]
    }
   ],
   "source": [
    "message_for_v = \"thanks for teaching me all these cool ciphers! you really are the best!\"\n",
    "keyword = \"besties\"\n",
    "\n",
    "print(\"Original message:\")\n",
    "print(message_for_v)\n",
    "print(\"Coded message:\")\n",
    "print(vigenere_coder(message_for_v, keyword)) # using the one-way function above\n",
    "coded_message = vigenere_cipher(message_for_v, keyword, shift_right=True) # using my two-way function\n",
    "print(coded_message)\n",
    "print(\"Decoded message\")\n",
    "print(vigenere_decoder(coded_message, keyword)) # using the one-way function above\n",
    "print(vigenere_cipher(coded_message, keyword, shift_right=False)) # using my two-way function"
   ]
  },
  {
   "cell_type": "markdown",
   "metadata": {},
   "source": [
    "#### Conclusion\n",
    "Over the course of this project you've learned about two different cipher methods and have used your Python skills to code and decode messages. There are all types of other facinating ciphers out there to explore, and Python is the perfect language to implement them with, so go exploring! "
   ]
  }
 ],
 "metadata": {
  "kernelspec": {
   "display_name": "Python 3 (ipykernel)",
   "language": "python",
   "name": "python3"
  },
  "language_info": {
   "codemirror_mode": {
    "name": "ipython",
    "version": 3
   },
   "file_extension": ".py",
   "mimetype": "text/x-python",
   "name": "python",
   "nbconvert_exporter": "python",
   "pygments_lexer": "ipython3",
   "version": "3.8.8"
  }
 },
 "nbformat": 4,
 "nbformat_minor": 4
}
