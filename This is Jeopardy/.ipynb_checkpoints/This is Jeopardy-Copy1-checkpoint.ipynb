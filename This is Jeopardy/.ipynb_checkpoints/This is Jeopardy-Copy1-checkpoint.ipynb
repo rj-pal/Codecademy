{
 "cells": [
  {
   "cell_type": "markdown",
   "metadata": {},
   "source": [
    "# This is Jeopardy!"
   ]
  },
  {
   "cell_type": "markdown",
   "metadata": {},
   "source": [
    "#### Overview"
   ]
  },
  {
   "cell_type": "markdown",
   "metadata": {},
   "source": [
    "This project is slightly different than others you have encountered thus far. Instead of a step-by-step tutorial, this project contains a series of open-ended requirements which describe the project you'll be building. There are many possible ways to correctly fulfill all of these requirements, and you should expect to use the internet, Codecademy, and/or other resources when you encounter a problem that you cannot easily solve."
   ]
  },
  {
   "cell_type": "markdown",
   "metadata": {},
   "source": [
    "#### Project Goals"
   ]
  },
  {
   "cell_type": "markdown",
   "metadata": {},
   "source": [
    "You will work to write several functions that investigate a dataset of _Jeopardy!_ questions and answers. Filter the dataset for topics that you're interested in, compute the average difficulty of those questions, and train to become the next Jeopardy champion!"
   ]
  },
  {
   "cell_type": "markdown",
   "metadata": {},
   "source": [
    "## Prerequisites"
   ]
  },
  {
   "cell_type": "markdown",
   "metadata": {},
   "source": [
    "In order to complete this project, you should have completed the Pandas lessons in the <a href=\"https://www.codecademy.com/learn/paths/analyze-data-with-python\">Analyze Data with Python Skill Path</a>. You can also find those lessons in the <a href=\"https://www.codecademy.com/learn/data-processing-pandas\">Data Analysis with Pandas course</a> or the <a href=\"https://www.codecademy.com/learn/paths/data-science/\">Data Scientist Career Path</a>.\n",
    "\n",
    "Finally, the <a href=\"https://www.codecademy.com/learn/practical-data-cleaning\">Practical Data Cleaning</a> course may also be helpful."
   ]
  },
  {
   "cell_type": "markdown",
   "metadata": {},
   "source": [
    "## Project Requirements"
   ]
  },
  {
   "cell_type": "markdown",
   "metadata": {},
   "source": [
    "1. We've provided a csv file containing data about the game show _Jeopardy!_ in a file named `jeopardy.csv`. Load the data into a DataFrame and investigate its contents. Try to print out specific columns.\n",
    "\n",
    "   Note that in order to make this project as \"real-world\" as possible, we haven't modified the data at all - we're giving it to you exactly how we found it. As a result, this data isn't as \"clean\" as the datasets you normally find on Codecademy. More specifically, there's something odd about the column names. After you figure out the problem with the column names, you may want to rename them to make your life easier for the rest of the project.\n",
    "   \n",
    "   In order to display the full contents of a column, we've added this line of code for you:\n",
    "   \n",
    "   ```py\n",
    "   pd.set_option('display.max_colwidth', None)\n",
    "   ```"
   ]
  },
  {
   "cell_type": "code",
   "execution_count": 1,
   "metadata": {},
   "outputs": [],
   "source": [
    "import pandas as pd\n",
    "pd.set_option('display.max_colwidth', None)\n",
    "\n",
    "import jeopardy as jp"
   ]
  },
  {
   "cell_type": "code",
   "execution_count": 2,
   "metadata": {},
   "outputs": [
    {
     "name": "stdout",
     "output_type": "stream",
     "text": [
      "(216930, 7)\n"
     ]
    },
    {
     "data": {
      "text/html": [
       "<div>\n",
       "<style scoped>\n",
       "    .dataframe tbody tr th:only-of-type {\n",
       "        vertical-align: middle;\n",
       "    }\n",
       "\n",
       "    .dataframe tbody tr th {\n",
       "        vertical-align: top;\n",
       "    }\n",
       "\n",
       "    .dataframe thead th {\n",
       "        text-align: right;\n",
       "    }\n",
       "</style>\n",
       "<table border=\"1\" class=\"dataframe\">\n",
       "  <thead>\n",
       "    <tr style=\"text-align: right;\">\n",
       "      <th></th>\n",
       "      <th>Show Number</th>\n",
       "      <th>Air Date</th>\n",
       "      <th>Round</th>\n",
       "      <th>Category</th>\n",
       "      <th>Value</th>\n",
       "      <th>Question</th>\n",
       "      <th>Answer</th>\n",
       "    </tr>\n",
       "  </thead>\n",
       "  <tbody>\n",
       "    <tr>\n",
       "      <th>0</th>\n",
       "      <td>4680</td>\n",
       "      <td>2004-12-31</td>\n",
       "      <td>Jeopardy!</td>\n",
       "      <td>HISTORY</td>\n",
       "      <td>$200</td>\n",
       "      <td>For the last 8 years of his life, Galileo was under house arrest for espousing this man's theory</td>\n",
       "      <td>Copernicus</td>\n",
       "    </tr>\n",
       "    <tr>\n",
       "      <th>1</th>\n",
       "      <td>4680</td>\n",
       "      <td>2004-12-31</td>\n",
       "      <td>Jeopardy!</td>\n",
       "      <td>ESPN's TOP 10 ALL-TIME ATHLETES</td>\n",
       "      <td>$200</td>\n",
       "      <td>No. 2: 1912 Olympian; football star at Carlisle Indian School; 6 MLB seasons with the Reds, Giants &amp; Braves</td>\n",
       "      <td>Jim Thorpe</td>\n",
       "    </tr>\n",
       "    <tr>\n",
       "      <th>2</th>\n",
       "      <td>4680</td>\n",
       "      <td>2004-12-31</td>\n",
       "      <td>Jeopardy!</td>\n",
       "      <td>EVERYBODY TALKS ABOUT IT...</td>\n",
       "      <td>$200</td>\n",
       "      <td>The city of Yuma in this state has a record average of 4,055 hours of sunshine each year</td>\n",
       "      <td>Arizona</td>\n",
       "    </tr>\n",
       "    <tr>\n",
       "      <th>3</th>\n",
       "      <td>4680</td>\n",
       "      <td>2004-12-31</td>\n",
       "      <td>Jeopardy!</td>\n",
       "      <td>THE COMPANY LINE</td>\n",
       "      <td>$200</td>\n",
       "      <td>In 1963, live on \"The Art Linkletter Show\", this company served its billionth burger</td>\n",
       "      <td>McDonald's</td>\n",
       "    </tr>\n",
       "    <tr>\n",
       "      <th>4</th>\n",
       "      <td>4680</td>\n",
       "      <td>2004-12-31</td>\n",
       "      <td>Jeopardy!</td>\n",
       "      <td>EPITAPHS &amp; TRIBUTES</td>\n",
       "      <td>$200</td>\n",
       "      <td>Signer of the Dec. of Indep., framer of the Constitution of Mass., second President of the United States</td>\n",
       "      <td>John Adams</td>\n",
       "    </tr>\n",
       "  </tbody>\n",
       "</table>\n",
       "</div>"
      ],
      "text/plain": [
       "   Show Number    Air Date      Round                         Category  Value  \\\n",
       "0         4680  2004-12-31  Jeopardy!                          HISTORY   $200   \n",
       "1         4680  2004-12-31  Jeopardy!  ESPN's TOP 10 ALL-TIME ATHLETES   $200   \n",
       "2         4680  2004-12-31  Jeopardy!      EVERYBODY TALKS ABOUT IT...   $200   \n",
       "3         4680  2004-12-31  Jeopardy!                 THE COMPANY LINE   $200   \n",
       "4         4680  2004-12-31  Jeopardy!              EPITAPHS & TRIBUTES   $200   \n",
       "\n",
       "                                                                                                      Question  \\\n",
       "0             For the last 8 years of his life, Galileo was under house arrest for espousing this man's theory   \n",
       "1  No. 2: 1912 Olympian; football star at Carlisle Indian School; 6 MLB seasons with the Reds, Giants & Braves   \n",
       "2                     The city of Yuma in this state has a record average of 4,055 hours of sunshine each year   \n",
       "3                         In 1963, live on \"The Art Linkletter Show\", this company served its billionth burger   \n",
       "4     Signer of the Dec. of Indep., framer of the Constitution of Mass., second President of the United States   \n",
       "\n",
       "       Answer  \n",
       "0  Copernicus  \n",
       "1  Jim Thorpe  \n",
       "2     Arizona  \n",
       "3  McDonald's  \n",
       "4  John Adams  "
      ]
     },
     "execution_count": 2,
     "metadata": {},
     "output_type": "execute_result"
    }
   ],
   "source": [
    "data = pd.read_csv('jeopardy.csv')\n",
    "print(data.shape)\n",
    "data.head()"
   ]
  },
  {
   "cell_type": "markdown",
   "metadata": {},
   "source": [
    "Rename the columns using camel-case for easy access\n",
    "\n",
    "Note: 'round' is a pandas function that causes conflicts later, so cannot use the camel_case short cut to access this column"
   ]
  },
  {
   "cell_type": "code",
   "execution_count": 3,
   "metadata": {},
   "outputs": [
    {
     "data": {
      "text/plain": [
       "Index(['show_number', 'air_date', 'round', 'category', 'value', 'question',\n",
       "       'answer'],\n",
       "      dtype='object')"
      ]
     },
     "execution_count": 3,
     "metadata": {},
     "output_type": "execute_result"
    }
   ],
   "source": [
    "data.columns\n",
    "data.rename(columns = {'Show Number':'show_number', ' Air Date': 'air_date', ' Round': 'round', ' Category': 'category',\n",
    "                       ' Value': 'value', ' Question': 'question', ' Answer': 'answer'}, inplace=True)\n",
    "data.columns"
   ]
  },
  {
   "cell_type": "markdown",
   "metadata": {},
   "source": [
    "2. Write a function that filters the dataset for questions that contains all of the words in a list of words. For example, when the list `[\"King\", \"England\"]` was passed to our function, the function returned a DataFrame of 49 rows. Every row had the strings `\"King\"` and `\"England\"` somewhere in its `\" Question\"`.\n",
    "\n",
    "   Test your function by printing out the column containing the question of each row of the dataset."
   ]
  },
  {
   "cell_type": "markdown",
   "metadata": {},
   "source": [
    "#### See the other notebook for details on this function"
   ]
  },
  {
   "cell_type": "markdown",
   "metadata": {},
   "source": [
    "3. Test your original function with a few different sets of words to try to find some ways your function breaks. Edit your function so it is more robust.\n",
    "\n",
    "   For example, think about capitalization. We probably want to find questions that contain the word `\"King\"` or `\"king\"`.\n",
    "   \n",
    "   You may also want to check to make sure you don't find rows that contain substrings of your given words. For example, our function found a question that didn't contain the word `\"king\"`, however it did contain the word `\"viking\"` &mdash; it found the `\"king\"` inside `\"viking\"`. Note that this also comes with some drawbacks &mdash; you would no longer find questions that contained words like `\"England's\"`."
   ]
  },
  {
   "cell_type": "markdown",
   "metadata": {},
   "source": [
    "#### Here, I'll use the original filter that filters for any match in the string, for example, king matches with making or working"
   ]
  },
  {
   "cell_type": "code",
   "execution_count": 4,
   "metadata": {},
   "outputs": [],
   "source": [
    "data2 = jp.filtered_df(data, filter_function=jp.keyword_string_filter, word_filter=[\"King\", \"England\"])"
   ]
  },
  {
   "cell_type": "code",
   "execution_count": 5,
   "metadata": {},
   "outputs": [
    {
     "data": {
      "text/html": [
       "<div>\n",
       "<style scoped>\n",
       "    .dataframe tbody tr th:only-of-type {\n",
       "        vertical-align: middle;\n",
       "    }\n",
       "\n",
       "    .dataframe tbody tr th {\n",
       "        vertical-align: top;\n",
       "    }\n",
       "\n",
       "    .dataframe thead th {\n",
       "        text-align: right;\n",
       "    }\n",
       "</style>\n",
       "<table border=\"1\" class=\"dataframe\">\n",
       "  <thead>\n",
       "    <tr style=\"text-align: right;\">\n",
       "      <th></th>\n",
       "      <th>show_number</th>\n",
       "      <th>air_date</th>\n",
       "      <th>round</th>\n",
       "      <th>category</th>\n",
       "      <th>value</th>\n",
       "      <th>question</th>\n",
       "      <th>answer</th>\n",
       "    </tr>\n",
       "  </thead>\n",
       "  <tbody>\n",
       "    <tr>\n",
       "      <th>4953</th>\n",
       "      <td>3003</td>\n",
       "      <td>1997-09-24</td>\n",
       "      <td>Double Jeopardy!</td>\n",
       "      <td>\"PH\"UN WORDS</td>\n",
       "      <td>$200</td>\n",
       "      <td>Both England's King George V &amp; FDR put their stamp of approval on this \"King of Hobbies\"</td>\n",
       "      <td>Philately (stamp collecting)</td>\n",
       "    </tr>\n",
       "    <tr>\n",
       "      <th>6337</th>\n",
       "      <td>3517</td>\n",
       "      <td>1999-12-14</td>\n",
       "      <td>Double Jeopardy!</td>\n",
       "      <td>Y1K</td>\n",
       "      <td>$800</td>\n",
       "      <td>In retaliation for Viking raids, this \"Unready\" king of England attacks Norse areas of the Isle of Man</td>\n",
       "      <td>Ethelred</td>\n",
       "    </tr>\n",
       "    <tr>\n",
       "      <th>9191</th>\n",
       "      <td>3907</td>\n",
       "      <td>2001-09-04</td>\n",
       "      <td>Double Jeopardy!</td>\n",
       "      <td>WON THE BATTLE</td>\n",
       "      <td>$800</td>\n",
       "      <td>This king of England beat the odds to trounce the French in the 1415 Battle of Agincourt</td>\n",
       "      <td>Henry V</td>\n",
       "    </tr>\n",
       "    <tr>\n",
       "      <th>11710</th>\n",
       "      <td>2903</td>\n",
       "      <td>1997-03-26</td>\n",
       "      <td>Double Jeopardy!</td>\n",
       "      <td>BRITISH MONARCHS</td>\n",
       "      <td>$600</td>\n",
       "      <td>This Scotsman, the first Stuart king of England, was called \"The Wisest Fool in Christendom\"</td>\n",
       "      <td>James I</td>\n",
       "    </tr>\n",
       "    <tr>\n",
       "      <th>13454</th>\n",
       "      <td>4726</td>\n",
       "      <td>2005-03-07</td>\n",
       "      <td>Jeopardy!</td>\n",
       "      <td>A NUMBER FROM 1 TO 10</td>\n",
       "      <td>$1000</td>\n",
       "      <td>It's the number that followed the last king of England named William</td>\n",
       "      <td>4</td>\n",
       "    </tr>\n",
       "    <tr>\n",
       "      <th>...</th>\n",
       "      <td>...</td>\n",
       "      <td>...</td>\n",
       "      <td>...</td>\n",
       "      <td>...</td>\n",
       "      <td>...</td>\n",
       "      <td>...</td>\n",
       "      <td>...</td>\n",
       "    </tr>\n",
       "    <tr>\n",
       "      <th>208295</th>\n",
       "      <td>4621</td>\n",
       "      <td>2004-10-11</td>\n",
       "      <td>Jeopardy!</td>\n",
       "      <td>THE VIKINGS</td>\n",
       "      <td>$600</td>\n",
       "      <td>In 1066 this great-great grandson of Rollo made what some call the last Viking invasion of England</td>\n",
       "      <td>William the Conqueror</td>\n",
       "    </tr>\n",
       "    <tr>\n",
       "      <th>208742</th>\n",
       "      <td>4863</td>\n",
       "      <td>2005-11-02</td>\n",
       "      <td>Double Jeopardy!</td>\n",
       "      <td>BEFORE &amp; AFTER</td>\n",
       "      <td>$3,000</td>\n",
       "      <td>Dutch-born king who ruled England jointly with Mary II &amp; is a tasty New Zealand fish</td>\n",
       "      <td>William of Orange roughy</td>\n",
       "    </tr>\n",
       "    <tr>\n",
       "      <th>213870</th>\n",
       "      <td>5856</td>\n",
       "      <td>2010-02-15</td>\n",
       "      <td>Double Jeopardy!</td>\n",
       "      <td>URANUS</td>\n",
       "      <td>$1600</td>\n",
       "      <td>In 1781 William Herschel discovered Uranus &amp; initially named it after this king of England</td>\n",
       "      <td>George III</td>\n",
       "    </tr>\n",
       "    <tr>\n",
       "      <th>216021</th>\n",
       "      <td>1881</td>\n",
       "      <td>1992-11-09</td>\n",
       "      <td>Double Jeopardy!</td>\n",
       "      <td>HISTORIC NAMES</td>\n",
       "      <td>$1000</td>\n",
       "      <td>His nickname was \"Bertie\", but he used this name &amp; number when he became king of England in 1901</td>\n",
       "      <td>Edward VII</td>\n",
       "    </tr>\n",
       "    <tr>\n",
       "      <th>216789</th>\n",
       "      <td>5070</td>\n",
       "      <td>2006-09-29</td>\n",
       "      <td>Double Jeopardy!</td>\n",
       "      <td>ANCIENT HISTORY</td>\n",
       "      <td>$1200</td>\n",
       "      <td>This kingdom of England grew from 2 settlements, one founded around 495 by Cerdic &amp; his son Cynric</td>\n",
       "      <td>Wessex</td>\n",
       "    </tr>\n",
       "  </tbody>\n",
       "</table>\n",
       "<p>152 rows × 7 columns</p>\n",
       "</div>"
      ],
      "text/plain": [
       "        show_number    air_date             round               category  \\\n",
       "4953           3003  1997-09-24  Double Jeopardy!           \"PH\"UN WORDS   \n",
       "6337           3517  1999-12-14  Double Jeopardy!                    Y1K   \n",
       "9191           3907  2001-09-04  Double Jeopardy!         WON THE BATTLE   \n",
       "11710          2903  1997-03-26  Double Jeopardy!       BRITISH MONARCHS   \n",
       "13454          4726  2005-03-07         Jeopardy!  A NUMBER FROM 1 TO 10   \n",
       "...             ...         ...               ...                    ...   \n",
       "208295         4621  2004-10-11         Jeopardy!            THE VIKINGS   \n",
       "208742         4863  2005-11-02  Double Jeopardy!         BEFORE & AFTER   \n",
       "213870         5856  2010-02-15  Double Jeopardy!                 URANUS   \n",
       "216021         1881  1992-11-09  Double Jeopardy!         HISTORIC NAMES   \n",
       "216789         5070  2006-09-29  Double Jeopardy!        ANCIENT HISTORY   \n",
       "\n",
       "         value  \\\n",
       "4953      $200   \n",
       "6337      $800   \n",
       "9191      $800   \n",
       "11710     $600   \n",
       "13454    $1000   \n",
       "...        ...   \n",
       "208295    $600   \n",
       "208742  $3,000   \n",
       "213870   $1600   \n",
       "216021   $1000   \n",
       "216789   $1200   \n",
       "\n",
       "                                                                                                      question  \\\n",
       "4953                  Both England's King George V & FDR put their stamp of approval on this \"King of Hobbies\"   \n",
       "6337    In retaliation for Viking raids, this \"Unready\" king of England attacks Norse areas of the Isle of Man   \n",
       "9191                  This king of England beat the odds to trounce the French in the 1415 Battle of Agincourt   \n",
       "11710             This Scotsman, the first Stuart king of England, was called \"The Wisest Fool in Christendom\"   \n",
       "13454                                     It's the number that followed the last king of England named William   \n",
       "...                                                                                                        ...   \n",
       "208295      In 1066 this great-great grandson of Rollo made what some call the last Viking invasion of England   \n",
       "208742                    Dutch-born king who ruled England jointly with Mary II & is a tasty New Zealand fish   \n",
       "213870              In 1781 William Herschel discovered Uranus & initially named it after this king of England   \n",
       "216021        His nickname was \"Bertie\", but he used this name & number when he became king of England in 1901   \n",
       "216789      This kingdom of England grew from 2 settlements, one founded around 495 by Cerdic & his son Cynric   \n",
       "\n",
       "                              answer  \n",
       "4953    Philately (stamp collecting)  \n",
       "6337                        Ethelred  \n",
       "9191                         Henry V  \n",
       "11710                        James I  \n",
       "13454                              4  \n",
       "...                              ...  \n",
       "208295         William the Conqueror  \n",
       "208742      William of Orange roughy  \n",
       "213870                    George III  \n",
       "216021                    Edward VII  \n",
       "216789                        Wessex  \n",
       "\n",
       "[152 rows x 7 columns]"
      ]
     },
     "execution_count": 5,
     "metadata": {},
     "output_type": "execute_result"
    }
   ],
   "source": [
    "data2"
   ]
  },
  {
   "cell_type": "code",
   "execution_count": 6,
   "metadata": {},
   "outputs": [
    {
     "name": "stdout",
     "output_type": "stream",
     "text": [
      "This function returns the questions:\n",
      "\t'This associate of Marx wrote about \"the condition of the working class in England in 1844\"'\n",
      "\t'Born in Bedfordshire, England in 1628, he was making \"Progress\" from the start'\n",
      "that don't contain the word king.\n"
     ]
    }
   ],
   "source": [
    "print(\"This function returns the questions:\\n\\t'{}'\\n\\t'{}'\\nthat don't contain the word king.\".format(data2.loc[51986, 'question'],\n",
    "                                                                                                    data2.loc[35478,'question']))"
   ]
  },
  {
   "cell_type": "markdown",
   "metadata": {},
   "source": [
    "#### Use my other word filter to obtain direct matches- it splits the question word into a list to find direct matches"
   ]
  },
  {
   "cell_type": "code",
   "execution_count": 7,
   "metadata": {},
   "outputs": [],
   "source": [
    "# the default keyword filter function is: jp.keyword_filter\n",
    "data3 = jp.filtered_df(data, word_filter=[\"King\", \"England\"])"
   ]
  },
  {
   "cell_type": "code",
   "execution_count": 8,
   "metadata": {},
   "outputs": [
    {
     "data": {
      "text/html": [
       "<div>\n",
       "<style scoped>\n",
       "    .dataframe tbody tr th:only-of-type {\n",
       "        vertical-align: middle;\n",
       "    }\n",
       "\n",
       "    .dataframe tbody tr th {\n",
       "        vertical-align: top;\n",
       "    }\n",
       "\n",
       "    .dataframe thead th {\n",
       "        text-align: right;\n",
       "    }\n",
       "</style>\n",
       "<table border=\"1\" class=\"dataframe\">\n",
       "  <thead>\n",
       "    <tr style=\"text-align: right;\">\n",
       "      <th></th>\n",
       "      <th>show_number</th>\n",
       "      <th>air_date</th>\n",
       "      <th>round</th>\n",
       "      <th>category</th>\n",
       "      <th>value</th>\n",
       "      <th>question</th>\n",
       "      <th>answer</th>\n",
       "    </tr>\n",
       "  </thead>\n",
       "  <tbody>\n",
       "    <tr>\n",
       "      <th>6337</th>\n",
       "      <td>3517</td>\n",
       "      <td>1999-12-14</td>\n",
       "      <td>Double Jeopardy!</td>\n",
       "      <td>Y1K</td>\n",
       "      <td>$800</td>\n",
       "      <td>In retaliation for Viking raids, this \"Unready\" king of England attacks Norse areas of the Isle of Man</td>\n",
       "      <td>Ethelred</td>\n",
       "    </tr>\n",
       "    <tr>\n",
       "      <th>9191</th>\n",
       "      <td>3907</td>\n",
       "      <td>2001-09-04</td>\n",
       "      <td>Double Jeopardy!</td>\n",
       "      <td>WON THE BATTLE</td>\n",
       "      <td>$800</td>\n",
       "      <td>This king of England beat the odds to trounce the French in the 1415 Battle of Agincourt</td>\n",
       "      <td>Henry V</td>\n",
       "    </tr>\n",
       "    <tr>\n",
       "      <th>13454</th>\n",
       "      <td>4726</td>\n",
       "      <td>2005-03-07</td>\n",
       "      <td>Jeopardy!</td>\n",
       "      <td>A NUMBER FROM 1 TO 10</td>\n",
       "      <td>$1000</td>\n",
       "      <td>It's the number that followed the last king of England named William</td>\n",
       "      <td>4</td>\n",
       "    </tr>\n",
       "    <tr>\n",
       "      <th>14912</th>\n",
       "      <td>2832</td>\n",
       "      <td>1996-12-17</td>\n",
       "      <td>Jeopardy!</td>\n",
       "      <td>WORLD HISTORY</td>\n",
       "      <td>$100</td>\n",
       "      <td>This country's King Louis IV was nicknamed \"Louis From Overseas\" because he was raised in England</td>\n",
       "      <td>France</td>\n",
       "    </tr>\n",
       "    <tr>\n",
       "      <th>18076</th>\n",
       "      <td>3227</td>\n",
       "      <td>1998-09-22</td>\n",
       "      <td>Double Jeopardy!</td>\n",
       "      <td>WORLD HISTORY</td>\n",
       "      <td>$1000</td>\n",
       "      <td>In 1199 this crusader king of England was mortally wounded while besieging the castle of Chalus</td>\n",
       "      <td>Richard the Lionhearted</td>\n",
       "    </tr>\n",
       "    <tr>\n",
       "      <th>...</th>\n",
       "      <td>...</td>\n",
       "      <td>...</td>\n",
       "      <td>...</td>\n",
       "      <td>...</td>\n",
       "      <td>...</td>\n",
       "      <td>...</td>\n",
       "      <td>...</td>\n",
       "    </tr>\n",
       "    <tr>\n",
       "      <th>200369</th>\n",
       "      <td>2937</td>\n",
       "      <td>1997-05-13</td>\n",
       "      <td>Jeopardy!</td>\n",
       "      <td>BRITISH HISTORY</td>\n",
       "      <td>$200</td>\n",
       "      <td>8th C. King Offa built a 170-mile north-south dike that still partly marks the border of England &amp; this country</td>\n",
       "      <td>Wales</td>\n",
       "    </tr>\n",
       "    <tr>\n",
       "      <th>201168</th>\n",
       "      <td>3515</td>\n",
       "      <td>1999-12-10</td>\n",
       "      <td>Jeopardy!</td>\n",
       "      <td>BEFORE &amp; AFTER</td>\n",
       "      <td>$500</td>\n",
       "      <td>Popular Saint-Exupery character waiting around to become king of England</td>\n",
       "      <td>The Little Prince of Wales</td>\n",
       "    </tr>\n",
       "    <tr>\n",
       "      <th>208742</th>\n",
       "      <td>4863</td>\n",
       "      <td>2005-11-02</td>\n",
       "      <td>Double Jeopardy!</td>\n",
       "      <td>BEFORE &amp; AFTER</td>\n",
       "      <td>$3,000</td>\n",
       "      <td>Dutch-born king who ruled England jointly with Mary II &amp; is a tasty New Zealand fish</td>\n",
       "      <td>William of Orange roughy</td>\n",
       "    </tr>\n",
       "    <tr>\n",
       "      <th>213870</th>\n",
       "      <td>5856</td>\n",
       "      <td>2010-02-15</td>\n",
       "      <td>Double Jeopardy!</td>\n",
       "      <td>URANUS</td>\n",
       "      <td>$1600</td>\n",
       "      <td>In 1781 William Herschel discovered Uranus &amp; initially named it after this king of England</td>\n",
       "      <td>George III</td>\n",
       "    </tr>\n",
       "    <tr>\n",
       "      <th>216021</th>\n",
       "      <td>1881</td>\n",
       "      <td>1992-11-09</td>\n",
       "      <td>Double Jeopardy!</td>\n",
       "      <td>HISTORIC NAMES</td>\n",
       "      <td>$1000</td>\n",
       "      <td>His nickname was \"Bertie\", but he used this name &amp; number when he became king of England in 1901</td>\n",
       "      <td>Edward VII</td>\n",
       "    </tr>\n",
       "  </tbody>\n",
       "</table>\n",
       "<p>74 rows × 7 columns</p>\n",
       "</div>"
      ],
      "text/plain": [
       "        show_number    air_date             round               category  \\\n",
       "6337           3517  1999-12-14  Double Jeopardy!                    Y1K   \n",
       "9191           3907  2001-09-04  Double Jeopardy!         WON THE BATTLE   \n",
       "13454          4726  2005-03-07         Jeopardy!  A NUMBER FROM 1 TO 10   \n",
       "14912          2832  1996-12-17         Jeopardy!          WORLD HISTORY   \n",
       "18076          3227  1998-09-22  Double Jeopardy!          WORLD HISTORY   \n",
       "...             ...         ...               ...                    ...   \n",
       "200369         2937  1997-05-13         Jeopardy!        BRITISH HISTORY   \n",
       "201168         3515  1999-12-10         Jeopardy!         BEFORE & AFTER   \n",
       "208742         4863  2005-11-02  Double Jeopardy!         BEFORE & AFTER   \n",
       "213870         5856  2010-02-15  Double Jeopardy!                 URANUS   \n",
       "216021         1881  1992-11-09  Double Jeopardy!         HISTORIC NAMES   \n",
       "\n",
       "         value  \\\n",
       "6337      $800   \n",
       "9191      $800   \n",
       "13454    $1000   \n",
       "14912     $100   \n",
       "18076    $1000   \n",
       "...        ...   \n",
       "200369    $200   \n",
       "201168    $500   \n",
       "208742  $3,000   \n",
       "213870   $1600   \n",
       "216021   $1000   \n",
       "\n",
       "                                                                                                               question  \\\n",
       "6337             In retaliation for Viking raids, this \"Unready\" king of England attacks Norse areas of the Isle of Man   \n",
       "9191                           This king of England beat the odds to trounce the French in the 1415 Battle of Agincourt   \n",
       "13454                                              It's the number that followed the last king of England named William   \n",
       "14912                 This country's King Louis IV was nicknamed \"Louis From Overseas\" because he was raised in England   \n",
       "18076                   In 1199 this crusader king of England was mortally wounded while besieging the castle of Chalus   \n",
       "...                                                                                                                 ...   \n",
       "200369  8th C. King Offa built a 170-mile north-south dike that still partly marks the border of England & this country   \n",
       "201168                                         Popular Saint-Exupery character waiting around to become king of England   \n",
       "208742                             Dutch-born king who ruled England jointly with Mary II & is a tasty New Zealand fish   \n",
       "213870                       In 1781 William Herschel discovered Uranus & initially named it after this king of England   \n",
       "216021                 His nickname was \"Bertie\", but he used this name & number when he became king of England in 1901   \n",
       "\n",
       "                            answer  \n",
       "6337                      Ethelred  \n",
       "9191                       Henry V  \n",
       "13454                            4  \n",
       "14912                       France  \n",
       "18076      Richard the Lionhearted  \n",
       "...                            ...  \n",
       "200369                       Wales  \n",
       "201168  The Little Prince of Wales  \n",
       "208742    William of Orange roughy  \n",
       "213870                  George III  \n",
       "216021                  Edward VII  \n",
       "\n",
       "[74 rows x 7 columns]"
      ]
     },
     "execution_count": 8,
     "metadata": {},
     "output_type": "execute_result"
    }
   ],
   "source": [
    "data3"
   ]
  },
  {
   "cell_type": "code",
   "execution_count": 9,
   "metadata": {},
   "outputs": [
    {
     "name": "stdout",
     "output_type": "stream",
     "text": [
      "Trying to print the above two questions that are in the other data frame produce key erros\n"
     ]
    }
   ],
   "source": [
    "# print(data3.loc[51986, 'question'])\n",
    "# print(data3.loc[35478,'question'])\n",
    "print(\"Trying to print the above two questions that are in the other data frame produce key erros\")"
   ]
  },
  {
   "cell_type": "markdown",
   "metadata": {},
   "source": [
    "4. We may want to eventually compute aggregate statistics, like `.mean()` on the `\" Value\"` column. But right now, the values in that column are strings. Convert the`\" Value\"` column to floats. If you'd like to, you can create a new column with float values.\n",
    "\n",
    "   Now that you can filter the dataset of question, use your new column that contains the float values of each question to find the \"difficulty\" of certain topics. For example, what is the average value of questions that contain the word `\"King\"`?\n",
    "   \n",
    "   Make sure to use the dataset that contains the float values as the dataset you use in your filtering function."
   ]
  },
  {
   "cell_type": "markdown",
   "metadata": {},
   "source": [
    "#### Use the keyword string filter to match the solutions output from codecademy"
   ]
  },
  {
   "cell_type": "code",
   "execution_count": 10,
   "metadata": {},
   "outputs": [],
   "source": [
    "king_df = jp.float_value_column_df(jp.filtered_df(data, filter_function=jp.keyword_string_filter, word_filter=[\"King\"]))"
   ]
  },
  {
   "cell_type": "code",
   "execution_count": 11,
   "metadata": {},
   "outputs": [
    {
     "data": {
      "text/plain": [
       "(7409, 8)"
      ]
     },
     "execution_count": 11,
     "metadata": {},
     "output_type": "execute_result"
    }
   ],
   "source": [
    "king_df.shape"
   ]
  },
  {
   "cell_type": "code",
   "execution_count": 12,
   "metadata": {},
   "outputs": [
    {
     "data": {
      "text/plain": [
       "771.8833850722094"
      ]
     },
     "execution_count": 12,
     "metadata": {},
     "output_type": "execute_result"
    }
   ],
   "source": [
    "king_df.new_value.mean()"
   ]
  },
  {
   "cell_type": "markdown",
   "metadata": {},
   "source": [
    "5. Write a function that returns the count of unique answers to all of the questions in a dataset. For example, after filtering the entire dataset to only questions containing the word `\"King\"`, we could then find all of the unique answers to those questions. The answer \"Henry VIII\" appeared 55 times and was the most common answer."
   ]
  },
  {
   "cell_type": "code",
   "execution_count": 13,
   "metadata": {},
   "outputs": [],
   "source": [
    "king = pd.DataFrame(jp.answer_frequency(king_df))"
   ]
  },
  {
   "cell_type": "code",
   "execution_count": 14,
   "metadata": {},
   "outputs": [
    {
     "data": {
      "text/html": [
       "<div>\n",
       "<style scoped>\n",
       "    .dataframe tbody tr th:only-of-type {\n",
       "        vertical-align: middle;\n",
       "    }\n",
       "\n",
       "    .dataframe tbody tr th {\n",
       "        vertical-align: top;\n",
       "    }\n",
       "\n",
       "    .dataframe thead th {\n",
       "        text-align: right;\n",
       "    }\n",
       "</style>\n",
       "<table border=\"1\" class=\"dataframe\">\n",
       "  <thead>\n",
       "    <tr style=\"text-align: right;\">\n",
       "      <th></th>\n",
       "      <th>answer</th>\n",
       "    </tr>\n",
       "  </thead>\n",
       "  <tbody>\n",
       "    <tr>\n",
       "      <th>Henry VIII</th>\n",
       "      <td>55</td>\n",
       "    </tr>\n",
       "    <tr>\n",
       "      <th>Solomon</th>\n",
       "      <td>35</td>\n",
       "    </tr>\n",
       "    <tr>\n",
       "      <th>Richard III</th>\n",
       "      <td>33</td>\n",
       "    </tr>\n",
       "    <tr>\n",
       "      <th>Louis XIV</th>\n",
       "      <td>31</td>\n",
       "    </tr>\n",
       "    <tr>\n",
       "      <th>David</th>\n",
       "      <td>30</td>\n",
       "    </tr>\n",
       "    <tr>\n",
       "      <th>...</th>\n",
       "      <td>...</td>\n",
       "    </tr>\n",
       "    <tr>\n",
       "      <th>Mary, George, Elizabeth</th>\n",
       "      <td>1</td>\n",
       "    </tr>\n",
       "    <tr>\n",
       "      <th>Strings</th>\n",
       "      <td>1</td>\n",
       "    </tr>\n",
       "    <tr>\n",
       "      <th>Baseball</th>\n",
       "      <td>1</td>\n",
       "    </tr>\n",
       "    <tr>\n",
       "      <th>Louis XIII</th>\n",
       "      <td>1</td>\n",
       "    </tr>\n",
       "    <tr>\n",
       "      <th>Sturgeon</th>\n",
       "      <td>1</td>\n",
       "    </tr>\n",
       "  </tbody>\n",
       "</table>\n",
       "<p>5268 rows × 1 columns</p>\n",
       "</div>"
      ],
      "text/plain": [
       "                         answer\n",
       "Henry VIII                   55\n",
       "Solomon                      35\n",
       "Richard III                  33\n",
       "Louis XIV                    31\n",
       "David                        30\n",
       "...                         ...\n",
       "Mary, George, Elizabeth       1\n",
       "Strings                       1\n",
       "Baseball                      1\n",
       "Louis XIII                    1\n",
       "Sturgeon                      1\n",
       "\n",
       "[5268 rows x 1 columns]"
      ]
     },
     "execution_count": 14,
     "metadata": {},
     "output_type": "execute_result"
    }
   ],
   "source": [
    "king"
   ]
  },
  {
   "cell_type": "markdown",
   "metadata": {},
   "source": [
    "#### Use my filter to check the king stats"
   ]
  },
  {
   "cell_type": "code",
   "execution_count": 15,
   "metadata": {},
   "outputs": [
    {
     "data": {
      "text/html": [
       "<div>\n",
       "<style scoped>\n",
       "    .dataframe tbody tr th:only-of-type {\n",
       "        vertical-align: middle;\n",
       "    }\n",
       "\n",
       "    .dataframe tbody tr th {\n",
       "        vertical-align: top;\n",
       "    }\n",
       "\n",
       "    .dataframe thead th {\n",
       "        text-align: right;\n",
       "    }\n",
       "</style>\n",
       "<table border=\"1\" class=\"dataframe\">\n",
       "  <thead>\n",
       "    <tr style=\"text-align: right;\">\n",
       "      <th></th>\n",
       "      <th>show_number</th>\n",
       "      <th>air_date</th>\n",
       "      <th>round</th>\n",
       "      <th>category</th>\n",
       "      <th>value</th>\n",
       "      <th>question</th>\n",
       "      <th>answer</th>\n",
       "      <th>new_value</th>\n",
       "    </tr>\n",
       "  </thead>\n",
       "  <tbody>\n",
       "    <tr>\n",
       "      <th>40</th>\n",
       "      <td>4680</td>\n",
       "      <td>2004-12-31</td>\n",
       "      <td>Double Jeopardy!</td>\n",
       "      <td>DR. SEUSS AT THE MULTIPLEX</td>\n",
       "      <td>$1200</td>\n",
       "      <td>&lt;a href=\"http://www.j-archive.com/media/2004-12-31_DJ_26.mp3\"&gt;Ripped from today's headlines, he was a turtle king gone mad; Mack was the one good turtle who'd bring him down&lt;/a&gt;</td>\n",
       "      <td>Yertle</td>\n",
       "      <td>1200.0</td>\n",
       "    </tr>\n",
       "    <tr>\n",
       "      <th>781</th>\n",
       "      <td>4335</td>\n",
       "      <td>2003-06-06</td>\n",
       "      <td>Jeopardy!</td>\n",
       "      <td>MY PLACE?</td>\n",
       "      <td>$200</td>\n",
       "      <td>A Norman could say, \"I'm the king of the motte-and-bailey style of\" this</td>\n",
       "      <td>castle</td>\n",
       "      <td>200.0</td>\n",
       "    </tr>\n",
       "    <tr>\n",
       "      <th>811</th>\n",
       "      <td>4335</td>\n",
       "      <td>2003-06-06</td>\n",
       "      <td>Double Jeopardy!</td>\n",
       "      <td>\"S\"-OTERICA</td>\n",
       "      <td>$400</td>\n",
       "      <td>Examples of this TV format include \"Leave It to Beaver\" &amp; \"The King of Queens\"</td>\n",
       "      <td>sitcom</td>\n",
       "      <td>400.0</td>\n",
       "    </tr>\n",
       "    <tr>\n",
       "      <th>846</th>\n",
       "      <td>4541</td>\n",
       "      <td>2004-05-10</td>\n",
       "      <td>Jeopardy!</td>\n",
       "      <td>U.S. STATES</td>\n",
       "      <td>$400</td>\n",
       "      <td>It's the only U.S. state named for a French king</td>\n",
       "      <td>Louisiana</td>\n",
       "      <td>400.0</td>\n",
       "    </tr>\n",
       "    <tr>\n",
       "      <th>896</th>\n",
       "      <td>3834</td>\n",
       "      <td>2001-04-12</td>\n",
       "      <td>Jeopardy!</td>\n",
       "      <td>AIN'T THAT AMERICA</td>\n",
       "      <td>$200</td>\n",
       "      <td>This state was named for a man who was a European king from 1643 to 1715</td>\n",
       "      <td>Louisiana</td>\n",
       "      <td>200.0</td>\n",
       "    </tr>\n",
       "    <tr>\n",
       "      <th>...</th>\n",
       "      <td>...</td>\n",
       "      <td>...</td>\n",
       "      <td>...</td>\n",
       "      <td>...</td>\n",
       "      <td>...</td>\n",
       "      <td>...</td>\n",
       "      <td>...</td>\n",
       "      <td>...</td>\n",
       "    </tr>\n",
       "    <tr>\n",
       "      <th>216232</th>\n",
       "      <td>1251</td>\n",
       "      <td>1990-01-29</td>\n",
       "      <td>Jeopardy!</td>\n",
       "      <td>THANKS, GUYS</td>\n",
       "      <td>$400</td>\n",
       "      <td>When we need to know about this, the King of Beers, we call Mary McHugh</td>\n",
       "      <td>Budweiser</td>\n",
       "      <td>400.0</td>\n",
       "    </tr>\n",
       "    <tr>\n",
       "      <th>216445</th>\n",
       "      <td>3644</td>\n",
       "      <td>2000-06-08</td>\n",
       "      <td>Final Jeopardy!</td>\n",
       "      <td>THE BIBLE</td>\n",
       "      <td>None</td>\n",
       "      <td>According to the King James Version of the Bible, the number of people on Noah's Ark</td>\n",
       "      <td>8</td>\n",
       "      <td>0.0</td>\n",
       "    </tr>\n",
       "    <tr>\n",
       "      <th>216612</th>\n",
       "      <td>2046</td>\n",
       "      <td>1993-06-28</td>\n",
       "      <td>Double Jeopardy!</td>\n",
       "      <td>BIBLICAL PEOPLE</td>\n",
       "      <td>$600</td>\n",
       "      <td>Her 2 husbands were Uriah the Hittite &amp; David the king</td>\n",
       "      <td>Bathsheba</td>\n",
       "      <td>600.0</td>\n",
       "    </tr>\n",
       "    <tr>\n",
       "      <th>216752</th>\n",
       "      <td>5070</td>\n",
       "      <td>2006-09-29</td>\n",
       "      <td>Jeopardy!</td>\n",
       "      <td>SIGNING OFF</td>\n",
       "      <td>$200</td>\n",
       "      <td>Upon signing his name in 1776 he said, \"There, King George will be able to read that without his spectacles\"</td>\n",
       "      <td>(John) Hancock</td>\n",
       "      <td>200.0</td>\n",
       "    </tr>\n",
       "    <tr>\n",
       "      <th>216777</th>\n",
       "      <td>5070</td>\n",
       "      <td>2006-09-29</td>\n",
       "      <td>Double Jeopardy!</td>\n",
       "      <td>ANCIENT HISTORY</td>\n",
       "      <td>$400</td>\n",
       "      <td>The first one of these tombs was built about 2650 B.C. by Imhotep for King Zoser &amp; rose about 200 feet using steps</td>\n",
       "      <td>a pyramid (the pyramids accepted)</td>\n",
       "      <td>400.0</td>\n",
       "    </tr>\n",
       "  </tbody>\n",
       "</table>\n",
       "<p>2075 rows × 8 columns</p>\n",
       "</div>"
      ],
      "text/plain": [
       "        show_number    air_date             round                    category  \\\n",
       "40             4680  2004-12-31  Double Jeopardy!  DR. SEUSS AT THE MULTIPLEX   \n",
       "781            4335  2003-06-06         Jeopardy!                   MY PLACE?   \n",
       "811            4335  2003-06-06  Double Jeopardy!                 \"S\"-OTERICA   \n",
       "846            4541  2004-05-10         Jeopardy!                 U.S. STATES   \n",
       "896            3834  2001-04-12         Jeopardy!          AIN'T THAT AMERICA   \n",
       "...             ...         ...               ...                         ...   \n",
       "216232         1251  1990-01-29         Jeopardy!                THANKS, GUYS   \n",
       "216445         3644  2000-06-08   Final Jeopardy!                   THE BIBLE   \n",
       "216612         2046  1993-06-28  Double Jeopardy!             BIBLICAL PEOPLE   \n",
       "216752         5070  2006-09-29         Jeopardy!                 SIGNING OFF   \n",
       "216777         5070  2006-09-29  Double Jeopardy!             ANCIENT HISTORY   \n",
       "\n",
       "        value  \\\n",
       "40      $1200   \n",
       "781      $200   \n",
       "811      $400   \n",
       "846      $400   \n",
       "896      $200   \n",
       "...       ...   \n",
       "216232   $400   \n",
       "216445   None   \n",
       "216612   $600   \n",
       "216752   $200   \n",
       "216777   $400   \n",
       "\n",
       "                                                                                                                                                                                 question  \\\n",
       "40      <a href=\"http://www.j-archive.com/media/2004-12-31_DJ_26.mp3\">Ripped from today's headlines, he was a turtle king gone mad; Mack was the one good turtle who'd bring him down</a>   \n",
       "781                                                                                                              A Norman could say, \"I'm the king of the motte-and-bailey style of\" this   \n",
       "811                                                                                                        Examples of this TV format include \"Leave It to Beaver\" & \"The King of Queens\"   \n",
       "846                                                                                                                                      It's the only U.S. state named for a French king   \n",
       "896                                                                                                              This state was named for a man who was a European king from 1643 to 1715   \n",
       "...                                                                                                                                                                                   ...   \n",
       "216232                                                                                                            When we need to know about this, the King of Beers, we call Mary McHugh   \n",
       "216445                                                                                               According to the King James Version of the Bible, the number of people on Noah's Ark   \n",
       "216612                                                                                                                             Her 2 husbands were Uriah the Hittite & David the king   \n",
       "216752                                                                       Upon signing his name in 1776 he said, \"There, King George will be able to read that without his spectacles\"   \n",
       "216777                                                                 The first one of these tombs was built about 2650 B.C. by Imhotep for King Zoser & rose about 200 feet using steps   \n",
       "\n",
       "                                   answer  new_value  \n",
       "40                                 Yertle     1200.0  \n",
       "781                                castle      200.0  \n",
       "811                                sitcom      400.0  \n",
       "846                             Louisiana      400.0  \n",
       "896                             Louisiana      200.0  \n",
       "...                                   ...        ...  \n",
       "216232                          Budweiser      400.0  \n",
       "216445                                  8        0.0  \n",
       "216612                          Bathsheba      600.0  \n",
       "216752                     (John) Hancock      200.0  \n",
       "216777  a pyramid (the pyramids accepted)      400.0  \n",
       "\n",
       "[2075 rows x 8 columns]"
      ]
     },
     "execution_count": 15,
     "metadata": {},
     "output_type": "execute_result"
    }
   ],
   "source": [
    "king_df = jp.float_value_column_df(jp.filtered_df(data, word_filter=[\"King\"]))\n",
    "king_df"
   ]
  },
  {
   "cell_type": "code",
   "execution_count": 16,
   "metadata": {},
   "outputs": [
    {
     "data": {
      "text/plain": [
       "805.4698795180723"
      ]
     },
     "execution_count": 16,
     "metadata": {},
     "output_type": "execute_result"
    }
   ],
   "source": [
    "king_df.new_value.mean()"
   ]
  },
  {
   "cell_type": "code",
   "execution_count": 17,
   "metadata": {},
   "outputs": [
    {
     "data": {
      "text/html": [
       "<div>\n",
       "<style scoped>\n",
       "    .dataframe tbody tr th:only-of-type {\n",
       "        vertical-align: middle;\n",
       "    }\n",
       "\n",
       "    .dataframe tbody tr th {\n",
       "        vertical-align: top;\n",
       "    }\n",
       "\n",
       "    .dataframe thead th {\n",
       "        text-align: right;\n",
       "    }\n",
       "</style>\n",
       "<table border=\"1\" class=\"dataframe\">\n",
       "  <thead>\n",
       "    <tr style=\"text-align: right;\">\n",
       "      <th></th>\n",
       "      <th>answer</th>\n",
       "    </tr>\n",
       "  </thead>\n",
       "  <tbody>\n",
       "    <tr>\n",
       "      <th>Henry VIII</th>\n",
       "      <td>41</td>\n",
       "    </tr>\n",
       "    <tr>\n",
       "      <th>Sweden</th>\n",
       "      <td>24</td>\n",
       "    </tr>\n",
       "    <tr>\n",
       "      <th>Solomon</th>\n",
       "      <td>23</td>\n",
       "    </tr>\n",
       "    <tr>\n",
       "      <th>Norway</th>\n",
       "      <td>22</td>\n",
       "    </tr>\n",
       "    <tr>\n",
       "      <th>Richard III</th>\n",
       "      <td>21</td>\n",
       "    </tr>\n",
       "    <tr>\n",
       "      <th>...</th>\n",
       "      <td>...</td>\n",
       "    </tr>\n",
       "    <tr>\n",
       "      <th>Selma</th>\n",
       "      <td>1</td>\n",
       "    </tr>\n",
       "    <tr>\n",
       "      <th>The Little Mermaid</th>\n",
       "      <td>1</td>\n",
       "    </tr>\n",
       "    <tr>\n",
       "      <th>zlati</th>\n",
       "      <td>1</td>\n",
       "    </tr>\n",
       "    <tr>\n",
       "      <th>King Henry VIII</th>\n",
       "      <td>1</td>\n",
       "    </tr>\n",
       "    <tr>\n",
       "      <th>I'll Be Home For Christmas</th>\n",
       "      <td>1</td>\n",
       "    </tr>\n",
       "  </tbody>\n",
       "</table>\n",
       "<p>1165 rows × 1 columns</p>\n",
       "</div>"
      ],
      "text/plain": [
       "                            answer\n",
       "Henry VIII                      41\n",
       "Sweden                          24\n",
       "Solomon                         23\n",
       "Norway                          22\n",
       "Richard III                     21\n",
       "...                            ...\n",
       "Selma                            1\n",
       "The Little Mermaid               1\n",
       "zlati                            1\n",
       "King Henry VIII                  1\n",
       "I'll Be Home For Christmas       1\n",
       "\n",
       "[1165 rows x 1 columns]"
      ]
     },
     "execution_count": 17,
     "metadata": {},
     "output_type": "execute_result"
    }
   ],
   "source": [
    "king = pd.DataFrame(jp.answer_frequency(king_df))\n",
    "king"
   ]
  },
  {
   "cell_type": "markdown",
   "metadata": {},
   "source": [
    "6. Explore from here! This is an incredibly rich dataset, and there are so many interesting things to discover. There are a few columns that we haven't even started looking at yet. Here are some ideas on ways to continue working with this data:\n",
    "\n",
    " * Investigate the ways in which questions change over time by filtering by the date. How many questions from the 90s use the word `\"Computer\"` compared to questions from the 2000s?\n",
    " * Is there a connection between the round and the category? Are you more likely to find certain categories, like `\"Literature\"` in Single Jeopardy or Double Jeopardy?\n",
    " * Build a system to quiz yourself. Grab random questions, and use the <a href=\"https://docs.python.org/3/library/functions.html#input\">input</a> function to get a response from the user. Check to see if that response was right or wrong."
   ]
  },
  {
   "cell_type": "code",
   "execution_count": 18,
   "metadata": {},
   "outputs": [],
   "source": [
    "from datetime import datetime\n",
    "\n",
    "dt_converter = lambda time: datetime.strptime(time, '%Y-%m-%d')"
   ]
  },
  {
   "cell_type": "code",
   "execution_count": 19,
   "metadata": {},
   "outputs": [],
   "source": [
    "dt_air_date = data['air_date'].apply(dt_converter)\n",
    "data['air_date'] = dt_air_date"
   ]
  },
  {
   "cell_type": "code",
   "execution_count": 22,
   "metadata": {},
   "outputs": [
    {
     "data": {
      "text/plain": [
       "count                  216930\n",
       "unique                   3640\n",
       "top       2007-11-13 00:00:00\n",
       "freq                       62\n",
       "first     1984-09-10 00:00:00\n",
       "last      2012-01-27 00:00:00\n",
       "Name: air_date, dtype: object"
      ]
     },
     "execution_count": 22,
     "metadata": {},
     "output_type": "execute_result"
    }
   ],
   "source": [
    "data.air_date.describe()"
   ]
  },
  {
   "cell_type": "code",
   "execution_count": 26,
   "metadata": {},
   "outputs": [
    {
     "data": {
      "text/plain": [
       "(216930, 7)"
      ]
     },
     "execution_count": 26,
     "metadata": {},
     "output_type": "execute_result"
    }
   ],
   "source": [
    "data.shape"
   ]
  },
  {
   "cell_type": "code",
   "execution_count": 60,
   "metadata": {},
   "outputs": [
    {
     "data": {
      "text/html": [
       "<div>\n",
       "<style scoped>\n",
       "    .dataframe tbody tr th:only-of-type {\n",
       "        vertical-align: middle;\n",
       "    }\n",
       "\n",
       "    .dataframe tbody tr th {\n",
       "        vertical-align: top;\n",
       "    }\n",
       "\n",
       "    .dataframe thead th {\n",
       "        text-align: right;\n",
       "    }\n",
       "</style>\n",
       "<table border=\"1\" class=\"dataframe\">\n",
       "  <thead>\n",
       "    <tr style=\"text-align: right;\">\n",
       "      <th></th>\n",
       "      <th>show_number</th>\n",
       "      <th>air_date</th>\n",
       "      <th>round</th>\n",
       "      <th>category</th>\n",
       "      <th>value</th>\n",
       "      <th>question</th>\n",
       "      <th>answer</th>\n",
       "      <th>decade</th>\n",
       "    </tr>\n",
       "  </thead>\n",
       "  <tbody>\n",
       "    <tr>\n",
       "      <th>84545</th>\n",
       "      <td>1</td>\n",
       "      <td>1984-09-10</td>\n",
       "      <td>Jeopardy!</td>\n",
       "      <td>ACTORS &amp; ROLES</td>\n",
       "      <td>$500</td>\n",
       "      <td>Sam Shepard played this barrier breaker in \"The Right Stuff\"</td>\n",
       "      <td>Colonel Chuck Yeager</td>\n",
       "      <td>1980</td>\n",
       "    </tr>\n",
       "    <tr>\n",
       "      <th>84539</th>\n",
       "      <td>1</td>\n",
       "      <td>1984-09-10</td>\n",
       "      <td>Jeopardy!</td>\n",
       "      <td>INVENTIONS</td>\n",
       "      <td>$400</td>\n",
       "      <td>This fastener gets its name from a brand of galoshes it was used on</td>\n",
       "      <td>the zipper</td>\n",
       "      <td>1980</td>\n",
       "    </tr>\n",
       "    <tr>\n",
       "      <th>84538</th>\n",
       "      <td>1</td>\n",
       "      <td>1984-09-10</td>\n",
       "      <td>Jeopardy!</td>\n",
       "      <td>LAKES &amp; RIVERS</td>\n",
       "      <td>$400</td>\n",
       "      <td>American river only 33 miles shorter than the Mississippi</td>\n",
       "      <td>the Missouri</td>\n",
       "      <td>1980</td>\n",
       "    </tr>\n",
       "    <tr>\n",
       "      <th>84537</th>\n",
       "      <td>1</td>\n",
       "      <td>1984-09-10</td>\n",
       "      <td>Jeopardy!</td>\n",
       "      <td>ACTORS &amp; ROLES</td>\n",
       "      <td>$300</td>\n",
       "      <td>He may \"Never Say Never Again\" when asked to be Bond</td>\n",
       "      <td>Sean Connery</td>\n",
       "      <td>1980</td>\n",
       "    </tr>\n",
       "    <tr>\n",
       "      <th>84536</th>\n",
       "      <td>1</td>\n",
       "      <td>1984-09-10</td>\n",
       "      <td>Jeopardy!</td>\n",
       "      <td>FOREIGN CUISINE</td>\n",
       "      <td>$300</td>\n",
       "      <td>Jewish crepe filled with cheese</td>\n",
       "      <td>a blintz</td>\n",
       "      <td>1980</td>\n",
       "    </tr>\n",
       "    <tr>\n",
       "      <th>...</th>\n",
       "      <td>...</td>\n",
       "      <td>...</td>\n",
       "      <td>...</td>\n",
       "      <td>...</td>\n",
       "      <td>...</td>\n",
       "      <td>...</td>\n",
       "      <td>...</td>\n",
       "      <td>...</td>\n",
       "    </tr>\n",
       "    <tr>\n",
       "      <th>81344</th>\n",
       "      <td>1230</td>\n",
       "      <td>1989-12-29</td>\n",
       "      <td>Jeopardy!</td>\n",
       "      <td>BY \"GEORGE\"</td>\n",
       "      <td>$300</td>\n",
       "      <td>This producer-screenwriter from California created a popular character named Indiana</td>\n",
       "      <td>George Lucas</td>\n",
       "      <td>1980</td>\n",
       "    </tr>\n",
       "    <tr>\n",
       "      <th>81345</th>\n",
       "      <td>1230</td>\n",
       "      <td>1989-12-29</td>\n",
       "      <td>Jeopardy!</td>\n",
       "      <td>HODGEPODGE</td>\n",
       "      <td>$300</td>\n",
       "      <td>Plate pressure is compressing the Mediterranean, but this sea, bordering Greece, is expanding</td>\n",
       "      <td>Aegean Sea</td>\n",
       "      <td>1980</td>\n",
       "    </tr>\n",
       "    <tr>\n",
       "      <th>81346</th>\n",
       "      <td>1230</td>\n",
       "      <td>1989-12-29</td>\n",
       "      <td>Jeopardy!</td>\n",
       "      <td>NORTH ON THE MAP</td>\n",
       "      <td>$300</td>\n",
       "      <td>North Head is a promontory on the entrance to Port Jackson, this Australian city's harbor</td>\n",
       "      <td>Sydney</td>\n",
       "      <td>1980</td>\n",
       "    </tr>\n",
       "    <tr>\n",
       "      <th>81333</th>\n",
       "      <td>1230</td>\n",
       "      <td>1989-12-29</td>\n",
       "      <td>Jeopardy!</td>\n",
       "      <td>HODGEPODGE</td>\n",
       "      <td>$100</td>\n",
       "      <td>During WWII he was head of the Kuomintang party &amp; commander of the Chinese army</td>\n",
       "      <td>Chiang Kai-shek</td>\n",
       "      <td>1980</td>\n",
       "    </tr>\n",
       "    <tr>\n",
       "      <th>81378</th>\n",
       "      <td>1230</td>\n",
       "      <td>1989-12-29</td>\n",
       "      <td>Double Jeopardy!</td>\n",
       "      <td>HISTORIC QUOTES</td>\n",
       "      <td>$800</td>\n",
       "      <td>\"Turn On, Tune In, Drop Out\" was the title of a lecture he gave in 1967</td>\n",
       "      <td>Dr. Timothy Leary</td>\n",
       "      <td>1980</td>\n",
       "    </tr>\n",
       "  </tbody>\n",
       "</table>\n",
       "<p>8108 rows × 8 columns</p>\n",
       "</div>"
      ],
      "text/plain": [
       "       show_number   air_date             round          category value  \\\n",
       "84545            1 1984-09-10         Jeopardy!    ACTORS & ROLES  $500   \n",
       "84539            1 1984-09-10         Jeopardy!        INVENTIONS  $400   \n",
       "84538            1 1984-09-10         Jeopardy!    LAKES & RIVERS  $400   \n",
       "84537            1 1984-09-10         Jeopardy!    ACTORS & ROLES  $300   \n",
       "84536            1 1984-09-10         Jeopardy!   FOREIGN CUISINE  $300   \n",
       "...            ...        ...               ...               ...   ...   \n",
       "81344         1230 1989-12-29         Jeopardy!       BY \"GEORGE\"  $300   \n",
       "81345         1230 1989-12-29         Jeopardy!        HODGEPODGE  $300   \n",
       "81346         1230 1989-12-29         Jeopardy!  NORTH ON THE MAP  $300   \n",
       "81333         1230 1989-12-29         Jeopardy!        HODGEPODGE  $100   \n",
       "81378         1230 1989-12-29  Double Jeopardy!   HISTORIC QUOTES  $800   \n",
       "\n",
       "                                                                                            question  \\\n",
       "84545                                   Sam Shepard played this barrier breaker in \"The Right Stuff\"   \n",
       "84539                            This fastener gets its name from a brand of galoshes it was used on   \n",
       "84538                                      American river only 33 miles shorter than the Mississippi   \n",
       "84537                                           He may \"Never Say Never Again\" when asked to be Bond   \n",
       "84536                                                                Jewish crepe filled with cheese   \n",
       "...                                                                                              ...   \n",
       "81344           This producer-screenwriter from California created a popular character named Indiana   \n",
       "81345  Plate pressure is compressing the Mediterranean, but this sea, bordering Greece, is expanding   \n",
       "81346      North Head is a promontory on the entrance to Port Jackson, this Australian city's harbor   \n",
       "81333                During WWII he was head of the Kuomintang party & commander of the Chinese army   \n",
       "81378                        \"Turn On, Tune In, Drop Out\" was the title of a lecture he gave in 1967   \n",
       "\n",
       "                     answer  decade  \n",
       "84545  Colonel Chuck Yeager    1980  \n",
       "84539            the zipper    1980  \n",
       "84538          the Missouri    1980  \n",
       "84537          Sean Connery    1980  \n",
       "84536              a blintz    1980  \n",
       "...                     ...     ...  \n",
       "81344          George Lucas    1980  \n",
       "81345            Aegean Sea    1980  \n",
       "81346                Sydney    1980  \n",
       "81333       Chiang Kai-shek    1980  \n",
       "81378     Dr. Timothy Leary    1980  \n",
       "\n",
       "[8108 rows x 8 columns]"
      ]
     },
     "execution_count": 60,
     "metadata": {},
     "output_type": "execute_result"
    }
   ],
   "source": [
    "data[data.air_date < \"1990-01-01\"].sort_values(by='air_date')"
   ]
  },
  {
   "cell_type": "code",
   "execution_count": 32,
   "metadata": {},
   "outputs": [],
   "source": [
    "decade_filter = lambda year: int(year//10 * 10)\n",
    "decade = data.air_date.dt.year.apply(decade_filter)\n",
    "data['decade'] = decade"
   ]
  },
  {
   "cell_type": "code",
   "execution_count": 43,
   "metadata": {},
   "outputs": [
    {
     "data": {
      "text/plain": [
       "decade\n",
       "1980      8108\n",
       "1990     56745\n",
       "2000    123852\n",
       "2010     28225\n",
       "Name: show_number, dtype: int64"
      ]
     },
     "execution_count": 43,
     "metadata": {},
     "output_type": "execute_result"
    }
   ],
   "source": [
    "decade_counts = data.groupby('decade').show_number.count()\n",
    "decade_counts"
   ]
  },
  {
   "cell_type": "code",
   "execution_count": 44,
   "metadata": {},
   "outputs": [
    {
     "data": {
      "text/plain": [
       "8108"
      ]
     },
     "execution_count": 44,
     "metadata": {},
     "output_type": "execute_result"
    }
   ],
   "source": [
    "decade_counts[1980]"
   ]
  },
  {
   "cell_type": "code",
   "execution_count": 38,
   "metadata": {},
   "outputs": [
    {
     "data": {
      "text/html": [
       "<div>\n",
       "<style scoped>\n",
       "    .dataframe tbody tr th:only-of-type {\n",
       "        vertical-align: middle;\n",
       "    }\n",
       "\n",
       "    .dataframe tbody tr th {\n",
       "        vertical-align: top;\n",
       "    }\n",
       "\n",
       "    .dataframe thead th {\n",
       "        text-align: right;\n",
       "    }\n",
       "</style>\n",
       "<table border=\"1\" class=\"dataframe\">\n",
       "  <thead>\n",
       "    <tr style=\"text-align: right;\">\n",
       "      <th></th>\n",
       "      <th>show_number</th>\n",
       "      <th>air_date</th>\n",
       "      <th>round</th>\n",
       "      <th>category</th>\n",
       "      <th>value</th>\n",
       "      <th>question</th>\n",
       "      <th>answer</th>\n",
       "      <th>decade</th>\n",
       "    </tr>\n",
       "  </thead>\n",
       "  <tbody>\n",
       "    <tr>\n",
       "      <th>342</th>\n",
       "      <td>5690</td>\n",
       "      <td>2009-05-08</td>\n",
       "      <td>Double Jeopardy!</td>\n",
       "      <td>MATHEM-ATTACK!</td>\n",
       "      <td>$1200</td>\n",
       "      <td>(&lt;a href=\"http://www.j-archive.com/media/2009-05-08_DJ_28.jpg\" target=\"_blank\"&gt;Kelly of the Clue Crew shows an array of numbers enclosed in brackets on the monitor.&lt;/a&gt;)  A set of numbers in rows and columns can be used in many ways--for example, to encrypt a code or create 3-D computer graphics; the set shares this name with a 1999 film</td>\n",
       "      <td>a matrix</td>\n",
       "      <td>2000</td>\n",
       "    </tr>\n",
       "    <tr>\n",
       "      <th>1106</th>\n",
       "      <td>4085</td>\n",
       "      <td>2002-05-10</td>\n",
       "      <td>Double Jeopardy!</td>\n",
       "      <td>\"EN\" THE BEGINNING</td>\n",
       "      <td>$800</td>\n",
       "      <td>2-word term for the consumer, for whom a computer is ultimately designed</td>\n",
       "      <td>an end user</td>\n",
       "      <td>2000</td>\n",
       "    </tr>\n",
       "    <tr>\n",
       "      <th>1430</th>\n",
       "      <td>4960</td>\n",
       "      <td>2006-03-17</td>\n",
       "      <td>Jeopardy!</td>\n",
       "      <td>RECORD LOSSES IN 2005</td>\n",
       "      <td>$200</td>\n",
       "      <td>A computer with 98,000 names &amp; SSNs was reported stolen from this oldest campus of the Univ. of Calif.</td>\n",
       "      <td>Berkeley</td>\n",
       "      <td>2000</td>\n",
       "    </tr>\n",
       "    <tr>\n",
       "      <th>4106</th>\n",
       "      <td>5797</td>\n",
       "      <td>2009-11-24</td>\n",
       "      <td>Double Jeopardy!</td>\n",
       "      <td>\"PH\"UN WORDS</td>\n",
       "      <td>$400</td>\n",
       "      <td>From the Greek for \"shape\", it means to transform an image into something else by computer</td>\n",
       "      <td>morph</td>\n",
       "      <td>2000</td>\n",
       "    </tr>\n",
       "    <tr>\n",
       "      <th>4615</th>\n",
       "      <td>5512</td>\n",
       "      <td>2008-07-22</td>\n",
       "      <td>Double Jeopardy!</td>\n",
       "      <td>SLEEP</td>\n",
       "      <td>$2000</td>\n",
       "      <td>(&lt;a href=\"http://www.j-archive.com/media/2008-07-22_DJ_26.wmv\"&gt;Sarah of the Clue Crew points to a brain on a computer screen at the Sleep Research Center at Stanford University.&lt;/a&gt;)  &lt;a href=\"http://www.j-archive.com/media/2008-07-22_DJ_26a.jpg\" target=\"_blank\"&gt;This&lt;/a&gt; part of the brain that connects to the spinal cord is vital for dreaming, as it produces chemicals that keep other parts of the brain active</td>\n",
       "      <td>the medulla oblongata (or the brain stem)</td>\n",
       "      <td>2000</td>\n",
       "    </tr>\n",
       "    <tr>\n",
       "      <th>...</th>\n",
       "      <td>...</td>\n",
       "      <td>...</td>\n",
       "      <td>...</td>\n",
       "      <td>...</td>\n",
       "      <td>...</td>\n",
       "      <td>...</td>\n",
       "      <td>...</td>\n",
       "      <td>...</td>\n",
       "    </tr>\n",
       "    <tr>\n",
       "      <th>215116</th>\n",
       "      <td>6036</td>\n",
       "      <td>2010-12-06</td>\n",
       "      <td>Double Jeopardy!</td>\n",
       "      <td>WHAT HAPPENED TO THE \"MOTHER\"s?</td>\n",
       "      <td>$400</td>\n",
       "      <td>The main circuitry of a computer is found here</td>\n",
       "      <td>the motherboard</td>\n",
       "      <td>2010</td>\n",
       "    </tr>\n",
       "    <tr>\n",
       "      <th>215539</th>\n",
       "      <td>4216</td>\n",
       "      <td>2002-12-23</td>\n",
       "      <td>Double Jeopardy!</td>\n",
       "      <td>WORDS WITHIN WORDS</td>\n",
       "      <td>$1600</td>\n",
       "      <td>You may have to do this to a computer disk to enable it to store information</td>\n",
       "      <td>format (in(format)ion)</td>\n",
       "      <td>2000</td>\n",
       "    </tr>\n",
       "    <tr>\n",
       "      <th>216299</th>\n",
       "      <td>5236</td>\n",
       "      <td>2007-05-21</td>\n",
       "      <td>Double Jeopardy!</td>\n",
       "      <td>FORBES' CARS FOR THE RICH</td>\n",
       "      <td>$400</td>\n",
       "      <td>This get personal for a personal computer mogul Michael Dell in a 2005 H2 from this manufacturer</td>\n",
       "      <td>Hummer</td>\n",
       "      <td>2000</td>\n",
       "    </tr>\n",
       "    <tr>\n",
       "      <th>216527</th>\n",
       "      <td>3038</td>\n",
       "      <td>1997-11-12</td>\n",
       "      <td>Jeopardy!</td>\n",
       "      <td>COMPUTERESE</td>\n",
       "      <td>$400</td>\n",
       "      <td>Like a waiter, a network computer might say \"I'll be your\" this &amp; store files or manage printers</td>\n",
       "      <td>Server</td>\n",
       "      <td>1990</td>\n",
       "    </tr>\n",
       "    <tr>\n",
       "      <th>216533</th>\n",
       "      <td>3038</td>\n",
       "      <td>1997-11-12</td>\n",
       "      <td>Jeopardy!</td>\n",
       "      <td>COMPUTERESE</td>\n",
       "      <td>$500</td>\n",
       "      <td>\"Strap\" once completed this word meaning to start a computer by loading software</td>\n",
       "      <td>Boot</td>\n",
       "      <td>1990</td>\n",
       "    </tr>\n",
       "  </tbody>\n",
       "</table>\n",
       "<p>315 rows × 8 columns</p>\n",
       "</div>"
      ],
      "text/plain": [
       "        show_number   air_date             round  \\\n",
       "342            5690 2009-05-08  Double Jeopardy!   \n",
       "1106           4085 2002-05-10  Double Jeopardy!   \n",
       "1430           4960 2006-03-17         Jeopardy!   \n",
       "4106           5797 2009-11-24  Double Jeopardy!   \n",
       "4615           5512 2008-07-22  Double Jeopardy!   \n",
       "...             ...        ...               ...   \n",
       "215116         6036 2010-12-06  Double Jeopardy!   \n",
       "215539         4216 2002-12-23  Double Jeopardy!   \n",
       "216299         5236 2007-05-21  Double Jeopardy!   \n",
       "216527         3038 1997-11-12         Jeopardy!   \n",
       "216533         3038 1997-11-12         Jeopardy!   \n",
       "\n",
       "                               category  value  \\\n",
       "342                      MATHEM-ATTACK!  $1200   \n",
       "1106                 \"EN\" THE BEGINNING   $800   \n",
       "1430              RECORD LOSSES IN 2005   $200   \n",
       "4106                       \"PH\"UN WORDS   $400   \n",
       "4615                              SLEEP  $2000   \n",
       "...                                 ...    ...   \n",
       "215116  WHAT HAPPENED TO THE \"MOTHER\"s?   $400   \n",
       "215539               WORDS WITHIN WORDS  $1600   \n",
       "216299        FORBES' CARS FOR THE RICH   $400   \n",
       "216527                      COMPUTERESE   $400   \n",
       "216533                      COMPUTERESE   $500   \n",
       "\n",
       "                                                                                                                                                                                                                                                                                                                                                                                                                            question  \\\n",
       "342                                                                              (<a href=\"http://www.j-archive.com/media/2009-05-08_DJ_28.jpg\" target=\"_blank\">Kelly of the Clue Crew shows an array of numbers enclosed in brackets on the monitor.</a>)  A set of numbers in rows and columns can be used in many ways--for example, to encrypt a code or create 3-D computer graphics; the set shares this name with a 1999 film   \n",
       "1106                                                                                                                                                                                                                                                                                                                                                        2-word term for the consumer, for whom a computer is ultimately designed   \n",
       "1430                                                                                                                                                                                                                                                                                                                          A computer with 98,000 names & SSNs was reported stolen from this oldest campus of the Univ. of Calif.   \n",
       "4106                                                                                                                                                                                                                                                                                                                                      From the Greek for \"shape\", it means to transform an image into something else by computer   \n",
       "4615    (<a href=\"http://www.j-archive.com/media/2008-07-22_DJ_26.wmv\">Sarah of the Clue Crew points to a brain on a computer screen at the Sleep Research Center at Stanford University.</a>)  <a href=\"http://www.j-archive.com/media/2008-07-22_DJ_26a.jpg\" target=\"_blank\">This</a> part of the brain that connects to the spinal cord is vital for dreaming, as it produces chemicals that keep other parts of the brain active   \n",
       "...                                                                                                                                                                                                                                                                                                                                                                                                                              ...   \n",
       "215116                                                                                                                                                                                                                                                                                                                                                                                The main circuitry of a computer is found here   \n",
       "215539                                                                                                                                                                                                                                                                                                                                                  You may have to do this to a computer disk to enable it to store information   \n",
       "216299                                                                                                                                                                                                                                                                                                                              This get personal for a personal computer mogul Michael Dell in a 2005 H2 from this manufacturer   \n",
       "216527                                                                                                                                                                                                                                                                                                                              Like a waiter, a network computer might say \"I'll be your\" this & store files or manage printers   \n",
       "216533                                                                                                                                                                                                                                                                                                                                              \"Strap\" once completed this word meaning to start a computer by loading software   \n",
       "\n",
       "                                           answer  decade  \n",
       "342                                      a matrix    2000  \n",
       "1106                                  an end user    2000  \n",
       "1430                                     Berkeley    2000  \n",
       "4106                                        morph    2000  \n",
       "4615    the medulla oblongata (or the brain stem)    2000  \n",
       "...                                           ...     ...  \n",
       "215116                            the motherboard    2010  \n",
       "215539                     format (in(format)ion)    2000  \n",
       "216299                                     Hummer    2000  \n",
       "216527                                     Server    1990  \n",
       "216533                                       Boot    1990  \n",
       "\n",
       "[315 rows x 8 columns]"
      ]
     },
     "execution_count": 38,
     "metadata": {},
     "output_type": "execute_result"
    }
   ],
   "source": [
    "computer_df = jp.filtered_df(data, ['Computer'])\n",
    "computer_df"
   ]
  },
  {
   "cell_type": "code",
   "execution_count": 39,
   "metadata": {},
   "outputs": [
    {
     "data": {
      "text/plain": [
       "count                     315\n",
       "unique                    280\n",
       "top       2007-01-03 00:00:00\n",
       "freq                        5\n",
       "first     1984-12-12 00:00:00\n",
       "last      2012-01-25 00:00:00\n",
       "Name: air_date, dtype: object"
      ]
     },
     "execution_count": 39,
     "metadata": {},
     "output_type": "execute_result"
    }
   ],
   "source": [
    "computer_df.air_date.describe()"
   ]
  },
  {
   "cell_type": "code",
   "execution_count": 42,
   "metadata": {},
   "outputs": [
    {
     "data": {
      "text/html": [
       "<div>\n",
       "<style scoped>\n",
       "    .dataframe tbody tr th:only-of-type {\n",
       "        vertical-align: middle;\n",
       "    }\n",
       "\n",
       "    .dataframe tbody tr th {\n",
       "        vertical-align: top;\n",
       "    }\n",
       "\n",
       "    .dataframe thead th {\n",
       "        text-align: right;\n",
       "    }\n",
       "</style>\n",
       "<table border=\"1\" class=\"dataframe\">\n",
       "  <thead>\n",
       "    <tr style=\"text-align: right;\">\n",
       "      <th></th>\n",
       "      <th>decade</th>\n",
       "      <th>show_number</th>\n",
       "    </tr>\n",
       "  </thead>\n",
       "  <tbody>\n",
       "    <tr>\n",
       "      <th>0</th>\n",
       "      <td>1980</td>\n",
       "      <td>5</td>\n",
       "    </tr>\n",
       "    <tr>\n",
       "      <th>1</th>\n",
       "      <td>1990</td>\n",
       "      <td>66</td>\n",
       "    </tr>\n",
       "    <tr>\n",
       "      <th>2</th>\n",
       "      <td>2000</td>\n",
       "      <td>197</td>\n",
       "    </tr>\n",
       "    <tr>\n",
       "      <th>3</th>\n",
       "      <td>2010</td>\n",
       "      <td>47</td>\n",
       "    </tr>\n",
       "  </tbody>\n",
       "</table>\n",
       "</div>"
      ],
      "text/plain": [
       "   decade  show_number\n",
       "0    1980            5\n",
       "1    1990           66\n",
       "2    2000          197\n",
       "3    2010           47"
      ]
     },
     "execution_count": 42,
     "metadata": {},
     "output_type": "execute_result"
    }
   ],
   "source": [
    "computer_df_decade = computer_df.groupby(['decade'])['show_number'].count().reset_index()\n",
    "computer_df_decade"
   ]
  },
  {
   "cell_type": "code",
   "execution_count": 50,
   "metadata": {},
   "outputs": [],
   "source": [
    "percentage = lambda row: row['show_number']/decade_counts[row['decade']]*100\n",
    "computer_df_decade['proportion_of_total'] = computer_df_decade.apply(percentage, axis=1)"
   ]
  },
  {
   "cell_type": "code",
   "execution_count": 51,
   "metadata": {},
   "outputs": [
    {
     "data": {
      "text/html": [
       "<div>\n",
       "<style scoped>\n",
       "    .dataframe tbody tr th:only-of-type {\n",
       "        vertical-align: middle;\n",
       "    }\n",
       "\n",
       "    .dataframe tbody tr th {\n",
       "        vertical-align: top;\n",
       "    }\n",
       "\n",
       "    .dataframe thead th {\n",
       "        text-align: right;\n",
       "    }\n",
       "</style>\n",
       "<table border=\"1\" class=\"dataframe\">\n",
       "  <thead>\n",
       "    <tr style=\"text-align: right;\">\n",
       "      <th></th>\n",
       "      <th>decade</th>\n",
       "      <th>show_number</th>\n",
       "      <th>proportion_of_total</th>\n",
       "    </tr>\n",
       "  </thead>\n",
       "  <tbody>\n",
       "    <tr>\n",
       "      <th>0</th>\n",
       "      <td>1980</td>\n",
       "      <td>5</td>\n",
       "      <td>0.061667</td>\n",
       "    </tr>\n",
       "    <tr>\n",
       "      <th>1</th>\n",
       "      <td>1990</td>\n",
       "      <td>66</td>\n",
       "      <td>0.116310</td>\n",
       "    </tr>\n",
       "    <tr>\n",
       "      <th>2</th>\n",
       "      <td>2000</td>\n",
       "      <td>197</td>\n",
       "      <td>0.159061</td>\n",
       "    </tr>\n",
       "    <tr>\n",
       "      <th>3</th>\n",
       "      <td>2010</td>\n",
       "      <td>47</td>\n",
       "      <td>0.166519</td>\n",
       "    </tr>\n",
       "  </tbody>\n",
       "</table>\n",
       "</div>"
      ],
      "text/plain": [
       "   decade  show_number  proportion_of_total\n",
       "0    1980            5             0.061667\n",
       "1    1990           66             0.116310\n",
       "2    2000          197             0.159061\n",
       "3    2010           47             0.166519"
      ]
     },
     "execution_count": 51,
     "metadata": {},
     "output_type": "execute_result"
    }
   ],
   "source": [
    "computer_df_decade"
   ]
  },
  {
   "cell_type": "code",
   "execution_count": null,
   "metadata": {},
   "outputs": [],
   "source": []
  },
  {
   "cell_type": "code",
   "execution_count": 63,
   "metadata": {},
   "outputs": [
    {
     "data": {
      "text/plain": [
       "BEFORE & AFTER             115\n",
       "SCIENCE                    110\n",
       "LITERATURE                 108\n",
       "WORD ORIGINS               102\n",
       "AMERICAN HISTORY            98\n",
       "STATE CAPITALS              88\n",
       "WORLD HISTORY               85\n",
       "POTPOURRI                   83\n",
       "U.S. CITIES                 83\n",
       "WORLD GEOGRAPHY             83\n",
       "BUSINESS & INDUSTRY         82\n",
       "U.S. PRESIDENTS             81\n",
       "SPORTS                      77\n",
       "WORLD CAPITALS              76\n",
       "ISLANDS                     75\n",
       "ANIMALS                     75\n",
       "COLLEGES & UNIVERSITIES     75\n",
       "FICTIONAL CHARACTERS        71\n",
       "BODIES OF WATER             71\n",
       "HISTORY                     70\n",
       "RELIGION                    69\n",
       "AUTHORS                     68\n",
       "OPERA                       67\n",
       "U.S. GEOGRAPHY              67\n",
       "SHAKESPEARE                 66\n",
       "TELEVISION                  65\n",
       "TRANSPORTATION              64\n",
       "BALLET                      63\n",
       "AMERICANA                   63\n",
       "LANGUAGES                   62\n",
       "U.S. HISTORY                61\n",
       "THE BIBLE                   61\n",
       "PEOPLE                      60\n",
       "HISTORIC NAMES              59\n",
       "AMERICAN LITERATURE         59\n",
       "GEOGRAPHY                   57\n",
       "ART                         57\n",
       "RHYME TIME                  56\n",
       "ART & ARTISTS               55\n",
       "FOOD                        55\n",
       "HOLIDAYS & OBSERVANCES      54\n",
       "STUPID ANSWERS              54\n",
       "BOOKS & AUTHORS             54\n",
       "THE MOVIES                  54\n",
       "MUSEUMS                     53\n",
       "POP MUSIC                   52\n",
       "ORGANIZATIONS               52\n",
       "CLASSICAL MUSIC             52\n",
       "WORLD LEADERS               51\n",
       "WORLD CITIES                51\n",
       "Name: category, dtype: int64"
      ]
     },
     "execution_count": 63,
     "metadata": {},
     "output_type": "execute_result"
    }
   ],
   "source": [
    "sorted_df = data.groupby(['air_date', 'category']).count().reset_index()['category'].value_counts()\n",
    "sorted_df.head(50)"
   ]
  },
  {
   "cell_type": "code",
   "execution_count": 64,
   "metadata": {},
   "outputs": [],
   "source": [
    "literature_df = jp.filtered_df(data, ['literature'])"
   ]
  },
  {
   "cell_type": "code",
   "execution_count": 151,
   "metadata": {},
   "outputs": [
    {
     "data": {
      "text/plain": [
       "round\n",
       "Double Jeopardy!    68\n",
       "Final Jeopardy!      8\n",
       "Jeopardy!           42\n",
       "Name: count, dtype: int64"
      ]
     },
     "execution_count": 151,
     "metadata": {},
     "output_type": "execute_result"
    }
   ],
   "source": [
    "ser = literature_df.groupby('round').show_number.count()\n",
    "s = ser.sum()\n",
    "ser.rename('count')"
   ]
  },
  {
   "cell_type": "code",
   "execution_count": 153,
   "metadata": {},
   "outputs": [
    {
     "data": {
      "text/plain": [
       "round\n",
       "Double Jeopardy!    0.576271\n",
       "Final Jeopardy!     0.067797\n",
       "Jeopardy!           0.355932\n",
       "Name: proportion_of_total, dtype: float64"
      ]
     },
     "execution_count": 153,
     "metadata": {},
     "output_type": "execute_result"
    }
   ],
   "source": [
    "ser.apply(lambda x: x/s).rename('proportion_of_total')\n"
   ]
  },
  {
   "cell_type": "code",
   "execution_count": 150,
   "metadata": {},
   "outputs": [
    {
     "data": {
      "text/html": [
       "<div>\n",
       "<style scoped>\n",
       "    .dataframe tbody tr th:only-of-type {\n",
       "        vertical-align: middle;\n",
       "    }\n",
       "\n",
       "    .dataframe tbody tr th {\n",
       "        vertical-align: top;\n",
       "    }\n",
       "\n",
       "    .dataframe thead th {\n",
       "        text-align: right;\n",
       "    }\n",
       "</style>\n",
       "<table border=\"1\" class=\"dataframe\">\n",
       "  <thead>\n",
       "    <tr style=\"text-align: right;\">\n",
       "      <th></th>\n",
       "      <th>round</th>\n",
       "      <th>show_number_x</th>\n",
       "      <th>show_number_y</th>\n",
       "    </tr>\n",
       "  </thead>\n",
       "  <tbody>\n",
       "    <tr>\n",
       "      <th>0</th>\n",
       "      <td>Double Jeopardy!</td>\n",
       "      <td>68</td>\n",
       "      <td>0.576271</td>\n",
       "    </tr>\n",
       "    <tr>\n",
       "      <th>1</th>\n",
       "      <td>Final Jeopardy!</td>\n",
       "      <td>8</td>\n",
       "      <td>0.067797</td>\n",
       "    </tr>\n",
       "    <tr>\n",
       "      <th>2</th>\n",
       "      <td>Jeopardy!</td>\n",
       "      <td>42</td>\n",
       "      <td>0.355932</td>\n",
       "    </tr>\n",
       "  </tbody>\n",
       "</table>\n",
       "</div>"
      ],
      "text/plain": [
       "              round  show_number_x  show_number_y\n",
       "0  Double Jeopardy!             68       0.576271\n",
       "1   Final Jeopardy!              8       0.067797\n",
       "2         Jeopardy!             42       0.355932"
      ]
     },
     "execution_count": 150,
     "metadata": {},
     "output_type": "execute_result"
    }
   ],
   "source": [
    "# a = ss.to_frame().reset_index().rename(columns = {'show_number': 'proportion_of_total'})\n",
    "# b = ser.to_frame().reset_index().rename(columns = {'show_number': 'count'})\n",
    "pd.merge(ser, ss, on='round').reset_index().rename(columns = {'show_number': 'proportion_of_total'})\n"
   ]
  },
  {
   "cell_type": "code",
   "execution_count": 154,
   "metadata": {},
   "outputs": [],
   "source": [
    "def round_counts(data, word):\n",
    "    \n",
    "    df = jp.filtered_df(data, word.split())\n",
    "    round_counts = df.groupby('round').show_number.count().rename('count')\n",
    "    round_sum = round_counts.sum()\n",
    "    round_percentage = round_counts.apply(lambda count: round(count/round_sum, 2)).rename('proportion_of_total')\n",
    "   \n",
    "    return pd.merge(round_counts, round_percentage, on='round').reset_index()"
   ]
  },
  {
   "cell_type": "code",
   "execution_count": 155,
   "metadata": {},
   "outputs": [
    {
     "data": {
      "text/html": [
       "<div>\n",
       "<style scoped>\n",
       "    .dataframe tbody tr th:only-of-type {\n",
       "        vertical-align: middle;\n",
       "    }\n",
       "\n",
       "    .dataframe tbody tr th {\n",
       "        vertical-align: top;\n",
       "    }\n",
       "\n",
       "    .dataframe thead th {\n",
       "        text-align: right;\n",
       "    }\n",
       "</style>\n",
       "<table border=\"1\" class=\"dataframe\">\n",
       "  <thead>\n",
       "    <tr style=\"text-align: right;\">\n",
       "      <th></th>\n",
       "      <th>round</th>\n",
       "      <th>count</th>\n",
       "      <th>proportion_of_total</th>\n",
       "    </tr>\n",
       "  </thead>\n",
       "  <tbody>\n",
       "    <tr>\n",
       "      <th>0</th>\n",
       "      <td>Double Jeopardy!</td>\n",
       "      <td>1309</td>\n",
       "      <td>0.50</td>\n",
       "    </tr>\n",
       "    <tr>\n",
       "      <th>1</th>\n",
       "      <td>Final Jeopardy!</td>\n",
       "      <td>127</td>\n",
       "      <td>0.05</td>\n",
       "    </tr>\n",
       "    <tr>\n",
       "      <th>2</th>\n",
       "      <td>Jeopardy!</td>\n",
       "      <td>1192</td>\n",
       "      <td>0.45</td>\n",
       "    </tr>\n",
       "  </tbody>\n",
       "</table>\n",
       "</div>"
      ],
      "text/plain": [
       "              round  count  proportion_of_total\n",
       "0  Double Jeopardy!   1309                 0.50\n",
       "1   Final Jeopardy!    127                 0.05\n",
       "2         Jeopardy!   1192                 0.45"
      ]
     },
     "execution_count": 155,
     "metadata": {},
     "output_type": "execute_result"
    }
   ],
   "source": [
    "round_counts(data, 'president')"
   ]
  },
  {
   "cell_type": "code",
   "execution_count": 156,
   "metadata": {},
   "outputs": [
    {
     "data": {
      "text/html": [
       "<div>\n",
       "<style scoped>\n",
       "    .dataframe tbody tr th:only-of-type {\n",
       "        vertical-align: middle;\n",
       "    }\n",
       "\n",
       "    .dataframe tbody tr th {\n",
       "        vertical-align: top;\n",
       "    }\n",
       "\n",
       "    .dataframe thead th {\n",
       "        text-align: right;\n",
       "    }\n",
       "</style>\n",
       "<table border=\"1\" class=\"dataframe\">\n",
       "  <thead>\n",
       "    <tr style=\"text-align: right;\">\n",
       "      <th></th>\n",
       "      <th>round</th>\n",
       "      <th>count</th>\n",
       "      <th>proportion_of_total</th>\n",
       "    </tr>\n",
       "  </thead>\n",
       "  <tbody>\n",
       "    <tr>\n",
       "      <th>0</th>\n",
       "      <td>Double Jeopardy!</td>\n",
       "      <td>141</td>\n",
       "      <td>0.45</td>\n",
       "    </tr>\n",
       "    <tr>\n",
       "      <th>1</th>\n",
       "      <td>Final Jeopardy!</td>\n",
       "      <td>2</td>\n",
       "      <td>0.01</td>\n",
       "    </tr>\n",
       "    <tr>\n",
       "      <th>2</th>\n",
       "      <td>Jeopardy!</td>\n",
       "      <td>172</td>\n",
       "      <td>0.55</td>\n",
       "    </tr>\n",
       "  </tbody>\n",
       "</table>\n",
       "</div>"
      ],
      "text/plain": [
       "              round  count  proportion_of_total\n",
       "0  Double Jeopardy!    141                 0.45\n",
       "1   Final Jeopardy!      2                 0.01\n",
       "2         Jeopardy!    172                 0.55"
      ]
     },
     "execution_count": 156,
     "metadata": {},
     "output_type": "execute_result"
    }
   ],
   "source": [
    "round_counts(data, 'computer')"
   ]
  },
  {
   "cell_type": "code",
   "execution_count": 157,
   "metadata": {},
   "outputs": [
    {
     "data": {
      "text/html": [
       "<div>\n",
       "<style scoped>\n",
       "    .dataframe tbody tr th:only-of-type {\n",
       "        vertical-align: middle;\n",
       "    }\n",
       "\n",
       "    .dataframe tbody tr th {\n",
       "        vertical-align: top;\n",
       "    }\n",
       "\n",
       "    .dataframe thead th {\n",
       "        text-align: right;\n",
       "    }\n",
       "</style>\n",
       "<table border=\"1\" class=\"dataframe\">\n",
       "  <thead>\n",
       "    <tr style=\"text-align: right;\">\n",
       "      <th></th>\n",
       "      <th>round</th>\n",
       "      <th>count</th>\n",
       "      <th>proportion_of_total</th>\n",
       "    </tr>\n",
       "  </thead>\n",
       "  <tbody>\n",
       "    <tr>\n",
       "      <th>0</th>\n",
       "      <td>Double Jeopardy!</td>\n",
       "      <td>68</td>\n",
       "      <td>0.58</td>\n",
       "    </tr>\n",
       "    <tr>\n",
       "      <th>1</th>\n",
       "      <td>Final Jeopardy!</td>\n",
       "      <td>8</td>\n",
       "      <td>0.07</td>\n",
       "    </tr>\n",
       "    <tr>\n",
       "      <th>2</th>\n",
       "      <td>Jeopardy!</td>\n",
       "      <td>42</td>\n",
       "      <td>0.36</td>\n",
       "    </tr>\n",
       "  </tbody>\n",
       "</table>\n",
       "</div>"
      ],
      "text/plain": [
       "              round  count  proportion_of_total\n",
       "0  Double Jeopardy!     68                 0.58\n",
       "1   Final Jeopardy!      8                 0.07\n",
       "2         Jeopardy!     42                 0.36"
      ]
     },
     "execution_count": 157,
     "metadata": {},
     "output_type": "execute_result"
    }
   ],
   "source": [
    "round_counts(data, 'literature')"
   ]
  },
  {
   "cell_type": "code",
   "execution_count": 158,
   "metadata": {},
   "outputs": [
    {
     "data": {
      "text/html": [
       "<div>\n",
       "<style scoped>\n",
       "    .dataframe tbody tr th:only-of-type {\n",
       "        vertical-align: middle;\n",
       "    }\n",
       "\n",
       "    .dataframe tbody tr th {\n",
       "        vertical-align: top;\n",
       "    }\n",
       "\n",
       "    .dataframe thead th {\n",
       "        text-align: right;\n",
       "    }\n",
       "</style>\n",
       "<table border=\"1\" class=\"dataframe\">\n",
       "  <thead>\n",
       "    <tr style=\"text-align: right;\">\n",
       "      <th></th>\n",
       "      <th>round</th>\n",
       "      <th>count</th>\n",
       "      <th>proportion_of_total</th>\n",
       "    </tr>\n",
       "  </thead>\n",
       "  <tbody>\n",
       "    <tr>\n",
       "      <th>0</th>\n",
       "      <td>Double Jeopardy!</td>\n",
       "      <td>2186</td>\n",
       "      <td>0.51</td>\n",
       "    </tr>\n",
       "    <tr>\n",
       "      <th>1</th>\n",
       "      <td>Final Jeopardy!</td>\n",
       "      <td>112</td>\n",
       "      <td>0.03</td>\n",
       "    </tr>\n",
       "    <tr>\n",
       "      <th>2</th>\n",
       "      <td>Jeopardy!</td>\n",
       "      <td>1961</td>\n",
       "      <td>0.46</td>\n",
       "    </tr>\n",
       "  </tbody>\n",
       "</table>\n",
       "</div>"
      ],
      "text/plain": [
       "              round  count  proportion_of_total\n",
       "0  Double Jeopardy!   2186                 0.51\n",
       "1   Final Jeopardy!    112                 0.03\n",
       "2         Jeopardy!   1961                 0.46"
      ]
     },
     "execution_count": 158,
     "metadata": {},
     "output_type": "execute_result"
    }
   ],
   "source": [
    "round_counts(data, 'country')"
   ]
  },
  {
   "cell_type": "code",
   "execution_count": 159,
   "metadata": {},
   "outputs": [
    {
     "data": {
      "text/html": [
       "<div>\n",
       "<style scoped>\n",
       "    .dataframe tbody tr th:only-of-type {\n",
       "        vertical-align: middle;\n",
       "    }\n",
       "\n",
       "    .dataframe tbody tr th {\n",
       "        vertical-align: top;\n",
       "    }\n",
       "\n",
       "    .dataframe thead th {\n",
       "        text-align: right;\n",
       "    }\n",
       "</style>\n",
       "<table border=\"1\" class=\"dataframe\">\n",
       "  <thead>\n",
       "    <tr style=\"text-align: right;\">\n",
       "      <th></th>\n",
       "      <th>round</th>\n",
       "      <th>count</th>\n",
       "      <th>proportion_of_total</th>\n",
       "    </tr>\n",
       "  </thead>\n",
       "  <tbody>\n",
       "    <tr>\n",
       "      <th>0</th>\n",
       "      <td>Double Jeopardy!</td>\n",
       "      <td>44</td>\n",
       "      <td>0.59</td>\n",
       "    </tr>\n",
       "    <tr>\n",
       "      <th>1</th>\n",
       "      <td>Final Jeopardy!</td>\n",
       "      <td>1</td>\n",
       "      <td>0.01</td>\n",
       "    </tr>\n",
       "    <tr>\n",
       "      <th>2</th>\n",
       "      <td>Jeopardy!</td>\n",
       "      <td>29</td>\n",
       "      <td>0.39</td>\n",
       "    </tr>\n",
       "  </tbody>\n",
       "</table>\n",
       "</div>"
      ],
      "text/plain": [
       "              round  count  proportion_of_total\n",
       "0  Double Jeopardy!     44                 0.59\n",
       "1   Final Jeopardy!      1                 0.01\n",
       "2         Jeopardy!     29                 0.39"
      ]
     },
     "execution_count": 159,
     "metadata": {},
     "output_type": "execute_result"
    }
   ],
   "source": [
    "round_counts(data, 'king england')"
   ]
  },
  {
   "cell_type": "code",
   "execution_count": 160,
   "metadata": {},
   "outputs": [
    {
     "data": {
      "text/html": [
       "<div>\n",
       "<style scoped>\n",
       "    .dataframe tbody tr th:only-of-type {\n",
       "        vertical-align: middle;\n",
       "    }\n",
       "\n",
       "    .dataframe tbody tr th {\n",
       "        vertical-align: top;\n",
       "    }\n",
       "\n",
       "    .dataframe thead th {\n",
       "        text-align: right;\n",
       "    }\n",
       "</style>\n",
       "<table border=\"1\" class=\"dataframe\">\n",
       "  <thead>\n",
       "    <tr style=\"text-align: right;\">\n",
       "      <th></th>\n",
       "      <th>round</th>\n",
       "      <th>count</th>\n",
       "      <th>proportion_of_total</th>\n",
       "    </tr>\n",
       "  </thead>\n",
       "  <tbody>\n",
       "    <tr>\n",
       "      <th>0</th>\n",
       "      <td>Double Jeopardy!</td>\n",
       "      <td>20</td>\n",
       "      <td>0.80</td>\n",
       "    </tr>\n",
       "    <tr>\n",
       "      <th>1</th>\n",
       "      <td>Final Jeopardy!</td>\n",
       "      <td>1</td>\n",
       "      <td>0.04</td>\n",
       "    </tr>\n",
       "    <tr>\n",
       "      <th>2</th>\n",
       "      <td>Jeopardy!</td>\n",
       "      <td>4</td>\n",
       "      <td>0.16</td>\n",
       "    </tr>\n",
       "  </tbody>\n",
       "</table>\n",
       "</div>"
      ],
      "text/plain": [
       "              round  count  proportion_of_total\n",
       "0  Double Jeopardy!     20                 0.80\n",
       "1   Final Jeopardy!      1                 0.04\n",
       "2         Jeopardy!      4                 0.16"
      ]
     },
     "execution_count": 160,
     "metadata": {},
     "output_type": "execute_result"
    }
   ],
   "source": [
    "round_counts(data, 'leader born')"
   ]
  },
  {
   "cell_type": "code",
   "execution_count": null,
   "metadata": {},
   "outputs": [],
   "source": []
  },
  {
   "cell_type": "markdown",
   "metadata": {},
   "source": [
    "## Solution"
   ]
  },
  {
   "cell_type": "markdown",
   "metadata": {},
   "source": [
    "7. Compare your program to our <a href=\"https://content.codecademy.com/PRO/independent-practice-projects/jeopardy/jeopardy_solution.zip\">sample solution code</a> - remember, that your program might look different from ours (and probably will) and that's okay!"
   ]
  },
  {
   "cell_type": "markdown",
   "metadata": {},
   "source": [
    "8. Great work! Visit <a href=\"https://discuss.codecademy.com/t/this-is-jeopardy-challenge-project-python-pandas/462365\">our forums</a> to compare your project to our sample solution code. You can also learn how to host your own solution on GitHub so you can share it with other learners! Your solution might look different from ours, and that's okay! There are multiple ways to solve these projects, and you'll learn more by seeing others' code."
   ]
  },
  {
   "cell_type": "code",
   "execution_count": null,
   "metadata": {},
   "outputs": [],
   "source": []
  }
 ],
 "metadata": {
  "kernelspec": {
   "display_name": "Python 3 (ipykernel)",
   "language": "python",
   "name": "python3"
  },
  "language_info": {
   "codemirror_mode": {
    "name": "ipython",
    "version": 3
   },
   "file_extension": ".py",
   "mimetype": "text/x-python",
   "name": "python",
   "nbconvert_exporter": "python",
   "pygments_lexer": "ipython3",
   "version": "3.8.8"
  }
 },
 "nbformat": 4,
 "nbformat_minor": 4
}
